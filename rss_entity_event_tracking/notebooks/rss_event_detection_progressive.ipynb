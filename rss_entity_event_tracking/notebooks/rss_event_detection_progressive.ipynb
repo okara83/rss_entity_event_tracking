{
 "cells": [
  {
   "cell_type": "markdown",
   "metadata": {
    "colab_type": "text",
    "id": "97ymKYOm9xoL"
   },
   "source": [
    "### Read RSS data into dataframe"
   ]
  },
  {
   "cell_type": "code",
   "execution_count": null,
   "metadata": {
    "colab": {},
    "colab_type": "code",
    "id": "A8_N6jFU9xoP"
   },
   "outputs": [],
   "source": [
    "import psycopg2\n",
    "database = \"rssfeed\"\n",
    "hostname=\"rssfeed.cjgj2uy1bapa.us-east-1.rds.amazonaws.com\"\n",
    "port=\"5432\" \n",
    "userid=\"postgres\"\n",
    "passwrd=\"\"\n",
    "conn_string = \"host=\"+hostname+\" port=\"+port+\" dbname=\"+database+\" user=\"+userid+\" password=\"+passwrd\n",
    "conn = psycopg2.connect(conn_string)\n",
    "conn.autocommit=True\n",
    "cursor = conn.cursor()\n",
    "sqlSelect = \"SELECT * FROM rss_entities_with_pub\";\n",
    "cursor.execute(sqlSelect);\n",
    "rows = cursor.fetchall();"
   ]
  },
  {
   "cell_type": "code",
   "execution_count": null,
   "metadata": {
    "colab": {},
    "colab_type": "code",
    "id": "24Wx7-xJ9xoV"
   },
   "outputs": [],
   "source": [
    "## Publisher url codes\n",
    "import pandas as pd\n",
    "publishers = pd.read_json('data/rss_feed.json', typ='series')\n",
    "publishers = publishers.to_dict()\n",
    "pub = {v: k for k, v in publishers.items()}"
   ]
  },
  {
   "cell_type": "code",
   "execution_count": null,
   "metadata": {
    "colab": {},
    "colab_type": "code",
    "id": "ztaSuMuo9xoZ",
    "outputId": "7794cb5c-6a6c-4d21-fa95-b2f78fede9c8"
   },
   "outputs": [
    {
     "data": {
      "text/html": [
       "<div>\n",
       "<style scoped>\n",
       "    .dataframe tbody tr th:only-of-type {\n",
       "        vertical-align: middle;\n",
       "    }\n",
       "\n",
       "    .dataframe tbody tr th {\n",
       "        vertical-align: top;\n",
       "    }\n",
       "\n",
       "    .dataframe thead th {\n",
       "        text-align: right;\n",
       "    }\n",
       "</style>\n",
       "<table border=\"1\" class=\"dataframe\">\n",
       "  <thead>\n",
       "    <tr style=\"text-align: right;\">\n",
       "      <th></th>\n",
       "      <th>publisher_code</th>\n",
       "      <th>entity</th>\n",
       "      <th>publish_time</th>\n",
       "      <th>publisher</th>\n",
       "    </tr>\n",
       "  </thead>\n",
       "  <tbody>\n",
       "    <tr>\n",
       "      <td>0</td>\n",
       "      <td>5871</td>\n",
       "      <td>Auckland | Coco</td>\n",
       "      <td>2020-01-07T06:23:52+00:00</td>\n",
       "      <td>http://tennisthreads.net/feed</td>\n",
       "    </tr>\n",
       "    <tr>\n",
       "      <td>1</td>\n",
       "      <td>5871</td>\n",
       "      <td>Wozniacki</td>\n",
       "      <td>2020-01-07T06:23:52+00:00</td>\n",
       "      <td>http://tennisthreads.net/feed</td>\n",
       "    </tr>\n",
       "    <tr>\n",
       "      <td>2</td>\n",
       "      <td>5871</td>\n",
       "      <td>Tennis Threads Magazine</td>\n",
       "      <td>2020-01-07T06:23:52+00:00</td>\n",
       "      <td>http://tennisthreads.net/feed</td>\n",
       "    </tr>\n",
       "    <tr>\n",
       "      <td>3</td>\n",
       "      <td>13317</td>\n",
       "      <td>Nigerian</td>\n",
       "      <td>2019-12-31T08:00:00+00:00</td>\n",
       "      <td>https://news.google.com/rss?hl=en-US&amp;gl=US&amp;cei...</td>\n",
       "    </tr>\n",
       "    <tr>\n",
       "      <td>4</td>\n",
       "      <td>13317</td>\n",
       "      <td>Nigerian</td>\n",
       "      <td>2019-12-31T08:00:00+00:00</td>\n",
       "      <td>https://news.google.com/rss?hl=en-US&amp;gl=US&amp;cei...</td>\n",
       "    </tr>\n",
       "  </tbody>\n",
       "</table>\n",
       "</div>"
      ],
      "text/plain": [
       "   publisher_code                   entity               publish_time  \\\n",
       "0            5871          Auckland | Coco  2020-01-07T06:23:52+00:00   \n",
       "1            5871                Wozniacki  2020-01-07T06:23:52+00:00   \n",
       "2            5871  Tennis Threads Magazine  2020-01-07T06:23:52+00:00   \n",
       "3           13317                 Nigerian  2019-12-31T08:00:00+00:00   \n",
       "4           13317                 Nigerian  2019-12-31T08:00:00+00:00   \n",
       "\n",
       "                                           publisher  \n",
       "0                      http://tennisthreads.net/feed  \n",
       "1                      http://tennisthreads.net/feed  \n",
       "2                      http://tennisthreads.net/feed  \n",
       "3  https://news.google.com/rss?hl=en-US&gl=US&cei...  \n",
       "4  https://news.google.com/rss?hl=en-US&gl=US&cei...  "
      ]
     },
     "execution_count": 4,
     "metadata": {
      "tags": []
     },
     "output_type": "execute_result"
    }
   ],
   "source": [
    "rssdf = pd.DataFrame(rows)\n",
    "rssdf.columns = ['publisher_code','entity','publish_time']\n",
    "rssdf[\"publisher\"] = rssdf[\"publisher_code\"].map(pub)  \n",
    "rssdf.head()"
   ]
  },
  {
   "cell_type": "markdown",
   "metadata": {
    "colab_type": "text",
    "id": "dTl2_xWv9xog"
   },
   "source": [
    "### Create a 24-hour time bucket"
   ]
  },
  {
   "cell_type": "code",
   "execution_count": null,
   "metadata": {
    "colab": {},
    "colab_type": "code",
    "id": "rXLGgJD79xoj"
   },
   "outputs": [],
   "source": [
    "rssdf['24hour_bucket'] = pd.to_datetime(rssdf['publish_time'],errors='coerce',format = '%Y-%m-%dT%H:%M:%S+00:00',\\\n",
    "                                        infer_datetime_format = True, cache = True)\n",
    "\n",
    "\n",
    "\n"
   ]
  },
  {
   "cell_type": "code",
   "execution_count": null,
   "metadata": {
    "colab": {},
    "colab_type": "code",
    "id": "FAAxP9IL9xon",
    "outputId": "a01bf099-7ff1-4ed9-c287-1f5007b96556"
   },
   "outputs": [
    {
     "name": "stdout",
     "output_type": "stream",
     "text": [
      "2020-01-23T23:02:17+00:00\n"
     ]
    },
    {
     "data": {
      "text/plain": [
       "datetime.datetime(2020, 1, 23, 23, 2, 17, tzinfo=datetime.timezone.utc)"
      ]
     },
     "execution_count": 56,
     "metadata": {
      "tags": []
     },
     "output_type": "execute_result"
    }
   ],
   "source": [
    "from datetime import dateime\n",
    "print(rssdf['publish_time'][100])\n",
    "datetime.fromisoformat(rssdf['publish_time'][100])"
   ]
  },
  {
   "cell_type": "code",
   "execution_count": null,
   "metadata": {
    "colab": {},
    "colab_type": "code",
    "id": "fbU9uORM9xos",
    "outputId": "36e262a7-f8c3-4ac1-8e14-1a0a3542faba"
   },
   "outputs": [
    {
     "data": {
      "text/html": [
       "<div>\n",
       "<style scoped>\n",
       "    .dataframe tbody tr th:only-of-type {\n",
       "        vertical-align: middle;\n",
       "    }\n",
       "\n",
       "    .dataframe tbody tr th {\n",
       "        vertical-align: top;\n",
       "    }\n",
       "\n",
       "    .dataframe thead th {\n",
       "        text-align: right;\n",
       "    }\n",
       "</style>\n",
       "<table border=\"1\" class=\"dataframe\">\n",
       "  <thead>\n",
       "    <tr style=\"text-align: right;\">\n",
       "      <th></th>\n",
       "      <th>publisher_code</th>\n",
       "      <th>entity</th>\n",
       "      <th>publish_time</th>\n",
       "      <th>publisher</th>\n",
       "      <th>24hour_bucket</th>\n",
       "    </tr>\n",
       "  </thead>\n",
       "  <tbody>\n",
       "    <tr>\n",
       "      <td>0</td>\n",
       "      <td>5871</td>\n",
       "      <td>Auckland | Coco</td>\n",
       "      <td>2020-01-07T06:23:52+00:00</td>\n",
       "      <td>http://tennisthreads.net/feed</td>\n",
       "      <td>2020-01-07 06:23:52</td>\n",
       "    </tr>\n",
       "    <tr>\n",
       "      <td>1</td>\n",
       "      <td>5871</td>\n",
       "      <td>Wozniacki</td>\n",
       "      <td>2020-01-07T06:23:52+00:00</td>\n",
       "      <td>http://tennisthreads.net/feed</td>\n",
       "      <td>2020-01-07 06:23:52</td>\n",
       "    </tr>\n",
       "    <tr>\n",
       "      <td>2</td>\n",
       "      <td>5871</td>\n",
       "      <td>Tennis Threads Magazine</td>\n",
       "      <td>2020-01-07T06:23:52+00:00</td>\n",
       "      <td>http://tennisthreads.net/feed</td>\n",
       "      <td>2020-01-07 06:23:52</td>\n",
       "    </tr>\n",
       "    <tr>\n",
       "      <td>3</td>\n",
       "      <td>13317</td>\n",
       "      <td>Nigerian</td>\n",
       "      <td>2019-12-31T08:00:00+00:00</td>\n",
       "      <td>https://news.google.com/rss?hl=en-US&amp;gl=US&amp;cei...</td>\n",
       "      <td>2019-12-31 08:00:00</td>\n",
       "    </tr>\n",
       "    <tr>\n",
       "      <td>4</td>\n",
       "      <td>13317</td>\n",
       "      <td>Nigerian</td>\n",
       "      <td>2019-12-31T08:00:00+00:00</td>\n",
       "      <td>https://news.google.com/rss?hl=en-US&amp;gl=US&amp;cei...</td>\n",
       "      <td>2019-12-31 08:00:00</td>\n",
       "    </tr>\n",
       "  </tbody>\n",
       "</table>\n",
       "</div>"
      ],
      "text/plain": [
       "   publisher_code                   entity               publish_time  \\\n",
       "0            5871          Auckland | Coco  2020-01-07T06:23:52+00:00   \n",
       "1            5871                Wozniacki  2020-01-07T06:23:52+00:00   \n",
       "2            5871  Tennis Threads Magazine  2020-01-07T06:23:52+00:00   \n",
       "3           13317                 Nigerian  2019-12-31T08:00:00+00:00   \n",
       "4           13317                 Nigerian  2019-12-31T08:00:00+00:00   \n",
       "\n",
       "                                           publisher       24hour_bucket  \n",
       "0                      http://tennisthreads.net/feed 2020-01-07 06:23:52  \n",
       "1                      http://tennisthreads.net/feed 2020-01-07 06:23:52  \n",
       "2                      http://tennisthreads.net/feed 2020-01-07 06:23:52  \n",
       "3  https://news.google.com/rss?hl=en-US&gl=US&cei... 2019-12-31 08:00:00  \n",
       "4  https://news.google.com/rss?hl=en-US&gl=US&cei... 2019-12-31 08:00:00  "
      ]
     },
     "execution_count": 60,
     "metadata": {
      "tags": []
     },
     "output_type": "execute_result"
    }
   ],
   "source": [
    "rssdf.head()"
   ]
  },
  {
   "cell_type": "code",
   "execution_count": null,
   "metadata": {
    "colab": {},
    "colab_type": "code",
    "id": "WgEpZQFM9xox",
    "outputId": "008bc09e-2092-4220-d053-c6b17c3ff469"
   },
   "outputs": [
    {
     "data": {
      "text/plain": [
       "Timestamp('2020-01-07 06:23:52')"
      ]
     },
     "execution_count": 68,
     "metadata": {
      "tags": []
     },
     "output_type": "execute_result"
    }
   ],
   "source": [
    "rssdf['24hour_bucket'][0]"
   ]
  },
  {
   "cell_type": "code",
   "execution_count": null,
   "metadata": {
    "colab": {},
    "colab_type": "code",
    "id": "S1F0T83U9xo1"
   },
   "outputs": [],
   "source": [
    "rssdf['dates']=rssdf['24hour_bucket'].dt.date"
   ]
  },
  {
   "cell_type": "code",
   "execution_count": null,
   "metadata": {
    "colab": {},
    "colab_type": "code",
    "id": "84jm1G_79xo5",
    "outputId": "47ed9453-4b61-42fc-a3ce-c5876f5c8fd5"
   },
   "outputs": [
    {
     "data": {
      "text/html": [
       "<div>\n",
       "<style scoped>\n",
       "    .dataframe tbody tr th:only-of-type {\n",
       "        vertical-align: middle;\n",
       "    }\n",
       "\n",
       "    .dataframe tbody tr th {\n",
       "        vertical-align: top;\n",
       "    }\n",
       "\n",
       "    .dataframe thead th {\n",
       "        text-align: right;\n",
       "    }\n",
       "</style>\n",
       "<table border=\"1\" class=\"dataframe\">\n",
       "  <thead>\n",
       "    <tr style=\"text-align: right;\">\n",
       "      <th></th>\n",
       "      <th>publisher_code</th>\n",
       "      <th>entity</th>\n",
       "      <th>publish_time</th>\n",
       "      <th>publisher</th>\n",
       "      <th>24hour_bucket</th>\n",
       "      <th>dates</th>\n",
       "    </tr>\n",
       "  </thead>\n",
       "  <tbody>\n",
       "    <tr>\n",
       "      <td>0</td>\n",
       "      <td>5871</td>\n",
       "      <td>Auckland | Coco</td>\n",
       "      <td>2020-01-07T06:23:52+00:00</td>\n",
       "      <td>http://tennisthreads.net/feed</td>\n",
       "      <td>2020-01-07 06:23:52</td>\n",
       "      <td>2020-01-07</td>\n",
       "    </tr>\n",
       "    <tr>\n",
       "      <td>1</td>\n",
       "      <td>5871</td>\n",
       "      <td>Wozniacki</td>\n",
       "      <td>2020-01-07T06:23:52+00:00</td>\n",
       "      <td>http://tennisthreads.net/feed</td>\n",
       "      <td>2020-01-07 06:23:52</td>\n",
       "      <td>2020-01-07</td>\n",
       "    </tr>\n",
       "    <tr>\n",
       "      <td>2</td>\n",
       "      <td>5871</td>\n",
       "      <td>Tennis Threads Magazine</td>\n",
       "      <td>2020-01-07T06:23:52+00:00</td>\n",
       "      <td>http://tennisthreads.net/feed</td>\n",
       "      <td>2020-01-07 06:23:52</td>\n",
       "      <td>2020-01-07</td>\n",
       "    </tr>\n",
       "    <tr>\n",
       "      <td>3</td>\n",
       "      <td>13317</td>\n",
       "      <td>Nigerian</td>\n",
       "      <td>2019-12-31T08:00:00+00:00</td>\n",
       "      <td>https://news.google.com/rss?hl=en-US&amp;gl=US&amp;cei...</td>\n",
       "      <td>2019-12-31 08:00:00</td>\n",
       "      <td>2019-12-31</td>\n",
       "    </tr>\n",
       "    <tr>\n",
       "      <td>4</td>\n",
       "      <td>13317</td>\n",
       "      <td>Nigerian</td>\n",
       "      <td>2019-12-31T08:00:00+00:00</td>\n",
       "      <td>https://news.google.com/rss?hl=en-US&amp;gl=US&amp;cei...</td>\n",
       "      <td>2019-12-31 08:00:00</td>\n",
       "      <td>2019-12-31</td>\n",
       "    </tr>\n",
       "  </tbody>\n",
       "</table>\n",
       "</div>"
      ],
      "text/plain": [
       "   publisher_code                   entity               publish_time  \\\n",
       "0            5871          Auckland | Coco  2020-01-07T06:23:52+00:00   \n",
       "1            5871                Wozniacki  2020-01-07T06:23:52+00:00   \n",
       "2            5871  Tennis Threads Magazine  2020-01-07T06:23:52+00:00   \n",
       "3           13317                 Nigerian  2019-12-31T08:00:00+00:00   \n",
       "4           13317                 Nigerian  2019-12-31T08:00:00+00:00   \n",
       "\n",
       "                                           publisher       24hour_bucket  \\\n",
       "0                      http://tennisthreads.net/feed 2020-01-07 06:23:52   \n",
       "1                      http://tennisthreads.net/feed 2020-01-07 06:23:52   \n",
       "2                      http://tennisthreads.net/feed 2020-01-07 06:23:52   \n",
       "3  https://news.google.com/rss?hl=en-US&gl=US&cei... 2019-12-31 08:00:00   \n",
       "4  https://news.google.com/rss?hl=en-US&gl=US&cei... 2019-12-31 08:00:00   \n",
       "\n",
       "        dates  \n",
       "0  2020-01-07  \n",
       "1  2020-01-07  \n",
       "2  2020-01-07  \n",
       "3  2019-12-31  \n",
       "4  2019-12-31  "
      ]
     },
     "execution_count": 111,
     "metadata": {
      "tags": []
     },
     "output_type": "execute_result"
    }
   ],
   "source": [
    "rssdf.head()\n"
   ]
  },
  {
   "cell_type": "markdown",
   "metadata": {
    "colab_type": "text",
    "id": "6NuXFRQP9xo_"
   },
   "source": [
    "### Group by time bucket, get a list of entities for each time bucket"
   ]
  },
  {
   "cell_type": "code",
   "execution_count": null,
   "metadata": {
    "colab": {},
    "colab_type": "code",
    "id": "biGYGYFu9xpB"
   },
   "outputs": [],
   "source": [
    "newdf = pd.DataFrame(rssdf.groupby(['dates'])['entity'].apply(\", \".join)).reset_index().sort_values(by=['dates'])"
   ]
  },
  {
   "cell_type": "code",
   "execution_count": null,
   "metadata": {
    "colab": {},
    "colab_type": "code",
    "id": "23mEt53l9xpE"
   },
   "outputs": [],
   "source": [
    "newdf['dates2'] = pd.to_datetime(newdf['dates'])"
   ]
  },
  {
   "cell_type": "code",
   "execution_count": 1,
   "metadata": {
    "colab": {},
    "colab_type": "code",
    "id": "EFAgoLIm9xpI",
    "outputId": "a4786e6f-9013-4c41-d8a9-0d5ca9b4114b"
   },
   "outputs": [
    {
     "ename": "NameError",
     "evalue": "name 'newdf' is not defined",
     "output_type": "error",
     "traceback": [
      "\u001b[0;31m---------------------------------------------------------------------------\u001b[0m",
      "\u001b[0;31mNameError\u001b[0m                                 Traceback (most recent call last)",
      "\u001b[0;32m<ipython-input-1-e53a9d61f31f>\u001b[0m in \u001b[0;36m<module>\u001b[0;34m\u001b[0m\n\u001b[1;32m      1\u001b[0m \u001b[0;32mimport\u001b[0m \u001b[0mdatetime\u001b[0m\u001b[0;34m\u001b[0m\u001b[0;34m\u001b[0m\u001b[0m\n\u001b[0;32m----> 2\u001b[0;31m \u001b[0mnewdf\u001b[0m \u001b[0;34m=\u001b[0m \u001b[0mnewdf\u001b[0m\u001b[0;34m[\u001b[0m\u001b[0mnewdf\u001b[0m\u001b[0;34m[\u001b[0m\u001b[0;34m'dates2'\u001b[0m\u001b[0;34m]\u001b[0m\u001b[0;34m<\u001b[0m\u001b[0mdatetime\u001b[0m\u001b[0;34m.\u001b[0m\u001b[0mdate\u001b[0m\u001b[0;34m(\u001b[0m\u001b[0;36m2020\u001b[0m\u001b[0;34m,\u001b[0m\u001b[0;36m2\u001b[0m\u001b[0;34m,\u001b[0m\u001b[0;36m23\u001b[0m\u001b[0;34m)\u001b[0m\u001b[0;34m]\u001b[0m\u001b[0;34m\u001b[0m\u001b[0;34m\u001b[0m\u001b[0m\n\u001b[0m",
      "\u001b[0;31mNameError\u001b[0m: name 'newdf' is not defined"
     ]
    }
   ],
   "source": [
    "import datetime\n",
    "newdf = newdf[newdf['dates2']<datetime.date(2020,2,23)]  "
   ]
  },
  {
   "cell_type": "code",
   "execution_count": null,
   "metadata": {
    "colab": {},
    "colab_type": "code",
    "id": "c1lkCiZR9xpM",
    "outputId": "d0e2409d-e92e-4c05-ffe8-5dfd50dc5c4a"
   },
   "outputs": [
    {
     "data": {
      "text/html": [
       "<div>\n",
       "<style scoped>\n",
       "    .dataframe tbody tr th:only-of-type {\n",
       "        vertical-align: middle;\n",
       "    }\n",
       "\n",
       "    .dataframe tbody tr th {\n",
       "        vertical-align: top;\n",
       "    }\n",
       "\n",
       "    .dataframe thead th {\n",
       "        text-align: right;\n",
       "    }\n",
       "</style>\n",
       "<table border=\"1\" class=\"dataframe\">\n",
       "  <thead>\n",
       "    <tr style=\"text-align: right;\">\n",
       "      <th></th>\n",
       "      <th>dates</th>\n",
       "      <th>entity</th>\n",
       "      <th>dates2</th>\n",
       "    </tr>\n",
       "  </thead>\n",
       "  <tbody>\n",
       "    <tr>\n",
       "      <td>0</td>\n",
       "      <td>1970-01-01</td>\n",
       "      <td>London</td>\n",
       "      <td>1970-01-01</td>\n",
       "    </tr>\n",
       "    <tr>\n",
       "      <td>1</td>\n",
       "      <td>1970-07-02</td>\n",
       "      <td>Kevin Pollak's, Kevin Pollak's</td>\n",
       "      <td>1970-07-02</td>\n",
       "    </tr>\n",
       "    <tr>\n",
       "      <td>2</td>\n",
       "      <td>1993-01-03</td>\n",
       "      <td>Christians</td>\n",
       "      <td>1993-01-03</td>\n",
       "    </tr>\n",
       "    <tr>\n",
       "      <td>3</td>\n",
       "      <td>1993-01-10</td>\n",
       "      <td>James English, Bible</td>\n",
       "      <td>1993-01-10</td>\n",
       "    </tr>\n",
       "    <tr>\n",
       "      <td>4</td>\n",
       "      <td>1993-01-24</td>\n",
       "      <td>Solomon, Christians, Greg</td>\n",
       "      <td>1993-01-24</td>\n",
       "    </tr>\n",
       "  </tbody>\n",
       "</table>\n",
       "</div>"
      ],
      "text/plain": [
       "        dates                          entity     dates2\n",
       "0  1970-01-01                          London 1970-01-01\n",
       "1  1970-07-02  Kevin Pollak's, Kevin Pollak's 1970-07-02\n",
       "2  1993-01-03                      Christians 1993-01-03\n",
       "3  1993-01-10            James English, Bible 1993-01-10\n",
       "4  1993-01-24       Solomon, Christians, Greg 1993-01-24"
      ]
     },
     "execution_count": 240,
     "metadata": {
      "tags": []
     },
     "output_type": "execute_result"
    }
   ],
   "source": [
    "newdf.head()"
   ]
  },
  {
   "cell_type": "markdown",
   "metadata": {
    "colab_type": "text",
    "id": "ojetbxeB9xpU"
   },
   "source": [
    "### Find entity overlaps between every pair of consecutive time buckets"
   ]
  },
  {
   "cell_type": "code",
   "execution_count": null,
   "metadata": {
    "colab": {},
    "colab_type": "code",
    "id": "YCchf-2b9xpV",
    "outputId": "ae2d3c4d-870d-4eed-d797-92c6c0cb3bc7"
   },
   "outputs": [
    {
     "data": {
      "text/plain": [
       "'hello,perry'"
      ]
     },
     "execution_count": 222,
     "metadata": {
      "tags": []
     },
     "output_type": "execute_result"
    }
   ],
   "source": [
    "def common(a,b): \n",
    "    #c = [value for value in a if value in b] \n",
    "    c = set(a).intersection(b)\n",
    "    return ','.join(c)\n",
    "\n",
    "common(['hello','abc','perry'],['hello','perry','goodmorning'])"
   ]
  },
  {
   "cell_type": "code",
   "execution_count": null,
   "metadata": {
    "colab": {},
    "colab_type": "code",
    "id": "qdbsUM0y9xpa",
    "outputId": "d10eb74f-4aa1-4e80-9c72-362fa99977cf"
   },
   "outputs": [
    {
     "data": {
      "text/html": [
       "<div>\n",
       "<style scoped>\n",
       "    .dataframe tbody tr th:only-of-type {\n",
       "        vertical-align: middle;\n",
       "    }\n",
       "\n",
       "    .dataframe tbody tr th {\n",
       "        vertical-align: top;\n",
       "    }\n",
       "\n",
       "    .dataframe thead th {\n",
       "        text-align: right;\n",
       "    }\n",
       "</style>\n",
       "<table border=\"1\" class=\"dataframe\">\n",
       "  <thead>\n",
       "    <tr style=\"text-align: right;\">\n",
       "      <th></th>\n",
       "      <th>dates</th>\n",
       "      <th>entity</th>\n",
       "      <th>dates2</th>\n",
       "    </tr>\n",
       "  </thead>\n",
       "  <tbody>\n",
       "    <tr>\n",
       "      <td>0</td>\n",
       "      <td>1970-01-01</td>\n",
       "      <td>London</td>\n",
       "      <td>1970-01-01</td>\n",
       "    </tr>\n",
       "    <tr>\n",
       "      <td>1</td>\n",
       "      <td>1970-07-02</td>\n",
       "      <td>Kevin Pollak's, Kevin Pollak's</td>\n",
       "      <td>1970-07-02</td>\n",
       "    </tr>\n",
       "    <tr>\n",
       "      <td>2</td>\n",
       "      <td>1993-01-03</td>\n",
       "      <td>Christians</td>\n",
       "      <td>1993-01-03</td>\n",
       "    </tr>\n",
       "    <tr>\n",
       "      <td>3</td>\n",
       "      <td>1993-01-10</td>\n",
       "      <td>James English, Bible</td>\n",
       "      <td>1993-01-10</td>\n",
       "    </tr>\n",
       "    <tr>\n",
       "      <td>4</td>\n",
       "      <td>1993-01-24</td>\n",
       "      <td>Solomon, Christians, Greg</td>\n",
       "      <td>1993-01-24</td>\n",
       "    </tr>\n",
       "    <tr>\n",
       "      <td>...</td>\n",
       "      <td>...</td>\n",
       "      <td>...</td>\n",
       "      <td>...</td>\n",
       "    </tr>\n",
       "    <tr>\n",
       "      <td>5720</td>\n",
       "      <td>2020-02-18</td>\n",
       "      <td>ABR, YEE (YEE), YEE (CURRENCY, YEE, US, DigiFi...</td>\n",
       "      <td>2020-02-18</td>\n",
       "    </tr>\n",
       "    <tr>\n",
       "      <td>5721</td>\n",
       "      <td>2020-02-19</td>\n",
       "      <td>Kate, Property Auction, Jonie, US, Jonathan, D...</td>\n",
       "      <td>2020-02-19</td>\n",
       "    </tr>\n",
       "    <tr>\n",
       "      <td>5722</td>\n",
       "      <td>2020-02-20</td>\n",
       "      <td>HEDS, EQ-5D-5L, HTA, ReQol, Valuing Health:, D...</td>\n",
       "      <td>2020-02-20</td>\n",
       "    </tr>\n",
       "    <tr>\n",
       "      <td>5723</td>\n",
       "      <td>2020-02-21</td>\n",
       "      <td>The Real Flower Petal Confetti Company, Garden...</td>\n",
       "      <td>2020-02-21</td>\n",
       "    </tr>\n",
       "    <tr>\n",
       "      <td>5724</td>\n",
       "      <td>2020-02-22</td>\n",
       "      <td>Carrie Elizabeth, UK, Carrie Elizabeth, Laura ...</td>\n",
       "      <td>2020-02-22</td>\n",
       "    </tr>\n",
       "  </tbody>\n",
       "</table>\n",
       "<p>5725 rows × 3 columns</p>\n",
       "</div>"
      ],
      "text/plain": [
       "           dates                                             entity     dates2\n",
       "0     1970-01-01                                             London 1970-01-01\n",
       "1     1970-07-02                     Kevin Pollak's, Kevin Pollak's 1970-07-02\n",
       "2     1993-01-03                                         Christians 1993-01-03\n",
       "3     1993-01-10                               James English, Bible 1993-01-10\n",
       "4     1993-01-24                          Solomon, Christians, Greg 1993-01-24\n",
       "...          ...                                                ...        ...\n",
       "5720  2020-02-18  ABR, YEE (YEE), YEE (CURRENCY, YEE, US, DigiFi... 2020-02-18\n",
       "5721  2020-02-19  Kate, Property Auction, Jonie, US, Jonathan, D... 2020-02-19\n",
       "5722  2020-02-20  HEDS, EQ-5D-5L, HTA, ReQol, Valuing Health:, D... 2020-02-20\n",
       "5723  2020-02-21  The Real Flower Petal Confetti Company, Garden... 2020-02-21\n",
       "5724  2020-02-22  Carrie Elizabeth, UK, Carrie Elizabeth, Laura ... 2020-02-22\n",
       "\n",
       "[5725 rows x 3 columns]"
      ]
     },
     "execution_count": 223,
     "metadata": {
      "tags": []
     },
     "output_type": "execute_result"
    }
   ],
   "source": [
    "newdf"
   ]
  },
  {
   "cell_type": "code",
   "execution_count": null,
   "metadata": {
    "colab": {},
    "colab_type": "code",
    "id": "JGU0yD8U9xpe"
   },
   "outputs": [],
   "source": [
    "# Compared two consecutive days, but be careful about the date.\n",
    "# one week slicing window? ==> calculate simliarty, dominate entity?\n",
    "import numpy as np\n",
    "newdf['overlaps'] = \"\"\n",
    "def findoverlaps(newdf):\n",
    "    for i in range(len(newdf)-1):\n",
    "        left = list(newdf['entity'][i].split(\",\"))\n",
    "        right = list(newdf['entity'][i+1].split(\",\"))\n",
    "        newdf['overlaps'].values[i+1] = common(left,right)\n",
    "        #newdf.at[i+1, 'overlaps'] = common(left, right)\n",
    "        \n",
    "    return(newdf)\n",
    "\n",
    "overlaps = findoverlaps(newdf) "
   ]
  },
  {
   "cell_type": "code",
   "execution_count": null,
   "metadata": {
    "colab": {},
    "colab_type": "code",
    "id": "nZpSmK-d9xpi",
    "outputId": "9b8dd1c7-3907-48c9-b556-0fb0d321ba84"
   },
   "outputs": [
    {
     "data": {
      "text/html": [
       "<div>\n",
       "<style scoped>\n",
       "    .dataframe tbody tr th:only-of-type {\n",
       "        vertical-align: middle;\n",
       "    }\n",
       "\n",
       "    .dataframe tbody tr th {\n",
       "        vertical-align: top;\n",
       "    }\n",
       "\n",
       "    .dataframe thead th {\n",
       "        text-align: right;\n",
       "    }\n",
       "</style>\n",
       "<table border=\"1\" class=\"dataframe\">\n",
       "  <thead>\n",
       "    <tr style=\"text-align: right;\">\n",
       "      <th></th>\n",
       "      <th>dates</th>\n",
       "      <th>entity</th>\n",
       "      <th>dates2</th>\n",
       "      <th>overlaps</th>\n",
       "    </tr>\n",
       "  </thead>\n",
       "  <tbody>\n",
       "    <tr>\n",
       "      <td>0</td>\n",
       "      <td>1970-01-01</td>\n",
       "      <td>London</td>\n",
       "      <td>1970-01-01</td>\n",
       "      <td></td>\n",
       "    </tr>\n",
       "    <tr>\n",
       "      <td>1</td>\n",
       "      <td>1970-07-02</td>\n",
       "      <td>Kevin Pollak's, Kevin Pollak's</td>\n",
       "      <td>1970-07-02</td>\n",
       "      <td></td>\n",
       "    </tr>\n",
       "    <tr>\n",
       "      <td>2</td>\n",
       "      <td>1993-01-03</td>\n",
       "      <td>Christians</td>\n",
       "      <td>1993-01-03</td>\n",
       "      <td></td>\n",
       "    </tr>\n",
       "    <tr>\n",
       "      <td>3</td>\n",
       "      <td>1993-01-10</td>\n",
       "      <td>James English, Bible</td>\n",
       "      <td>1993-01-10</td>\n",
       "      <td></td>\n",
       "    </tr>\n",
       "    <tr>\n",
       "      <td>4</td>\n",
       "      <td>1993-01-24</td>\n",
       "      <td>Solomon, Christians, Greg</td>\n",
       "      <td>1993-01-24</td>\n",
       "      <td></td>\n",
       "    </tr>\n",
       "    <tr>\n",
       "      <td>...</td>\n",
       "      <td>...</td>\n",
       "      <td>...</td>\n",
       "      <td>...</td>\n",
       "      <td>...</td>\n",
       "    </tr>\n",
       "    <tr>\n",
       "      <td>5720</td>\n",
       "      <td>2020-02-18</td>\n",
       "      <td>ABR, YEE (YEE), YEE (CURRENCY, YEE, US, DigiFi...</td>\n",
       "      <td>2020-02-18</td>\n",
       "      <td>, FCoin, Us, American Dream, Harry Maguire, Wa...</td>\n",
       "    </tr>\n",
       "    <tr>\n",
       "      <td>5721</td>\n",
       "      <td>2020-02-19</td>\n",
       "      <td>Kate, Property Auction, Jonie, US, Jonathan, D...</td>\n",
       "      <td>2020-02-19</td>\n",
       "      <td>, OANDA, FCoin, Us, P Chidambaram, Nashvilles,...</td>\n",
       "    </tr>\n",
       "    <tr>\n",
       "      <td>5722</td>\n",
       "      <td>2020-02-20</td>\n",
       "      <td>HEDS, EQ-5D-5L, HTA, ReQol, Valuing Health:, D...</td>\n",
       "      <td>2020-02-20</td>\n",
       "      <td>, OANDA, FCoin, Us, P Chidambaram, Nashvilles,...</td>\n",
       "    </tr>\n",
       "    <tr>\n",
       "      <td>5723</td>\n",
       "      <td>2020-02-21</td>\n",
       "      <td>The Real Flower Petal Confetti Company, Garden...</td>\n",
       "      <td>2020-02-21</td>\n",
       "      <td>, OANDA, Us, Balls Mahoney, Lacey Evans, Toron...</td>\n",
       "    </tr>\n",
       "    <tr>\n",
       "      <td>5724</td>\n",
       "      <td>2020-02-22</td>\n",
       "      <td>Carrie Elizabeth, UK, Carrie Elizabeth, Laura ...</td>\n",
       "      <td>2020-02-22</td>\n",
       "      <td>, Us, Artem, Lacey Evans, Diet, Embassy, Nike ...</td>\n",
       "    </tr>\n",
       "  </tbody>\n",
       "</table>\n",
       "<p>5725 rows × 4 columns</p>\n",
       "</div>"
      ],
      "text/plain": [
       "           dates                                             entity  \\\n",
       "0     1970-01-01                                             London   \n",
       "1     1970-07-02                     Kevin Pollak's, Kevin Pollak's   \n",
       "2     1993-01-03                                         Christians   \n",
       "3     1993-01-10                               James English, Bible   \n",
       "4     1993-01-24                          Solomon, Christians, Greg   \n",
       "...          ...                                                ...   \n",
       "5720  2020-02-18  ABR, YEE (YEE), YEE (CURRENCY, YEE, US, DigiFi...   \n",
       "5721  2020-02-19  Kate, Property Auction, Jonie, US, Jonathan, D...   \n",
       "5722  2020-02-20  HEDS, EQ-5D-5L, HTA, ReQol, Valuing Health:, D...   \n",
       "5723  2020-02-21  The Real Flower Petal Confetti Company, Garden...   \n",
       "5724  2020-02-22  Carrie Elizabeth, UK, Carrie Elizabeth, Laura ...   \n",
       "\n",
       "         dates2                                           overlaps  \n",
       "0    1970-01-01                                                     \n",
       "1    1970-07-02                                                     \n",
       "2    1993-01-03                                                     \n",
       "3    1993-01-10                                                     \n",
       "4    1993-01-24                                                     \n",
       "...         ...                                                ...  \n",
       "5720 2020-02-18  , FCoin, Us, American Dream, Harry Maguire, Wa...  \n",
       "5721 2020-02-19  , OANDA, FCoin, Us, P Chidambaram, Nashvilles,...  \n",
       "5722 2020-02-20  , OANDA, FCoin, Us, P Chidambaram, Nashvilles,...  \n",
       "5723 2020-02-21  , OANDA, Us, Balls Mahoney, Lacey Evans, Toron...  \n",
       "5724 2020-02-22  , Us, Artem, Lacey Evans, Diet, Embassy, Nike ...  \n",
       "\n",
       "[5725 rows x 4 columns]"
      ]
     },
     "execution_count": 227,
     "metadata": {
      "tags": []
     },
     "output_type": "execute_result"
    }
   ],
   "source": [
    "overlaps"
   ]
  },
  {
   "cell_type": "markdown",
   "metadata": {
    "colab_type": "text",
    "id": "Od2Izf8R9xpl"
   },
   "source": [
    "### Find percentage of overlaps "
   ]
  },
  {
   "cell_type": "code",
   "execution_count": null,
   "metadata": {
    "colab": {},
    "colab_type": "code",
    "id": "PyfLkgsH9xpm",
    "outputId": "78711f95-bb6c-4c40-bea4-1784ec0a2034"
   },
   "outputs": [
    {
     "data": {
      "text/plain": [
       "(50.0, 50.0, 33.33333333333333)"
      ]
     },
     "execution_count": 231,
     "metadata": {
      "tags": []
     },
     "output_type": "execute_result"
    }
   ],
   "source": [
    "def percentoverlap(a,b): # params are lists\n",
    "    setA = set(a)\n",
    "    setB = set(b)\n",
    "    overlap = setA & setB\n",
    "    universe = setA | setB\n",
    "    result1 = float(len(overlap)) / len(setA) * 100\n",
    "    result2 = float(len(overlap)) / len(setB) * 100\n",
    "    result3 = float(len(overlap)) / len(universe) * 100\n",
    "    return(result1,result2,result3)\n",
    "\n",
    "percentoverlap(['hello','perry'],['hello','goodmorning'])"
   ]
  },
  {
   "cell_type": "code",
   "execution_count": null,
   "metadata": {
    "colab": {},
    "colab_type": "code",
    "id": "fLEsvQgM9xpq",
    "outputId": "20b6fb71-be06-4ce4-efd5-5ca46948ec9c"
   },
   "outputs": [
    {
     "data": {
      "text/html": [
       "<div>\n",
       "<style scoped>\n",
       "    .dataframe tbody tr th:only-of-type {\n",
       "        vertical-align: middle;\n",
       "    }\n",
       "\n",
       "    .dataframe tbody tr th {\n",
       "        vertical-align: top;\n",
       "    }\n",
       "\n",
       "    .dataframe thead th {\n",
       "        text-align: right;\n",
       "    }\n",
       "</style>\n",
       "<table border=\"1\" class=\"dataframe\">\n",
       "  <thead>\n",
       "    <tr style=\"text-align: right;\">\n",
       "      <th></th>\n",
       "      <th>dates</th>\n",
       "      <th>entity</th>\n",
       "      <th>dates2</th>\n",
       "      <th>overlaps</th>\n",
       "      <th>left_percent</th>\n",
       "      <th>right_percet</th>\n",
       "      <th>union_percent</th>\n",
       "      <th>right_percent</th>\n",
       "    </tr>\n",
       "  </thead>\n",
       "  <tbody>\n",
       "    <tr>\n",
       "      <td>0</td>\n",
       "      <td>1970-01-01</td>\n",
       "      <td>London</td>\n",
       "      <td>1970-01-01</td>\n",
       "      <td></td>\n",
       "      <td>0</td>\n",
       "      <td>0</td>\n",
       "      <td>0</td>\n",
       "      <td>0</td>\n",
       "    </tr>\n",
       "    <tr>\n",
       "      <td>1</td>\n",
       "      <td>1970-07-02</td>\n",
       "      <td>Kevin Pollak's, Kevin Pollak's</td>\n",
       "      <td>1970-07-02</td>\n",
       "      <td></td>\n",
       "      <td>0</td>\n",
       "      <td>0</td>\n",
       "      <td>0</td>\n",
       "      <td>0</td>\n",
       "    </tr>\n",
       "    <tr>\n",
       "      <td>2</td>\n",
       "      <td>1993-01-03</td>\n",
       "      <td>Christians</td>\n",
       "      <td>1993-01-03</td>\n",
       "      <td></td>\n",
       "      <td>0</td>\n",
       "      <td>0</td>\n",
       "      <td>0</td>\n",
       "      <td>0</td>\n",
       "    </tr>\n",
       "    <tr>\n",
       "      <td>3</td>\n",
       "      <td>1993-01-10</td>\n",
       "      <td>James English, Bible</td>\n",
       "      <td>1993-01-10</td>\n",
       "      <td></td>\n",
       "      <td>0</td>\n",
       "      <td>0</td>\n",
       "      <td>0</td>\n",
       "      <td>0</td>\n",
       "    </tr>\n",
       "    <tr>\n",
       "      <td>4</td>\n",
       "      <td>1993-01-24</td>\n",
       "      <td>Solomon, Christians, Greg</td>\n",
       "      <td>1993-01-24</td>\n",
       "      <td></td>\n",
       "      <td>0</td>\n",
       "      <td>0</td>\n",
       "      <td>0</td>\n",
       "      <td>0</td>\n",
       "    </tr>\n",
       "    <tr>\n",
       "      <td>...</td>\n",
       "      <td>...</td>\n",
       "      <td>...</td>\n",
       "      <td>...</td>\n",
       "      <td>...</td>\n",
       "      <td>...</td>\n",
       "      <td>...</td>\n",
       "      <td>...</td>\n",
       "      <td>...</td>\n",
       "    </tr>\n",
       "    <tr>\n",
       "      <td>5720</td>\n",
       "      <td>2020-02-18</td>\n",
       "      <td>ABR, YEE (YEE), YEE (CURRENCY, YEE, US, DigiFi...</td>\n",
       "      <td>2020-02-18</td>\n",
       "      <td>, FCoin, Us, American Dream, Harry Maguire, Wa...</td>\n",
       "      <td>64</td>\n",
       "      <td>0</td>\n",
       "      <td>38</td>\n",
       "      <td>48</td>\n",
       "    </tr>\n",
       "    <tr>\n",
       "      <td>5721</td>\n",
       "      <td>2020-02-19</td>\n",
       "      <td>Kate, Property Auction, Jonie, US, Jonathan, D...</td>\n",
       "      <td>2020-02-19</td>\n",
       "      <td>, OANDA, FCoin, Us, P Chidambaram, Nashvilles,...</td>\n",
       "      <td>64</td>\n",
       "      <td>0</td>\n",
       "      <td>44</td>\n",
       "      <td>59</td>\n",
       "    </tr>\n",
       "    <tr>\n",
       "      <td>5722</td>\n",
       "      <td>2020-02-20</td>\n",
       "      <td>HEDS, EQ-5D-5L, HTA, ReQol, Valuing Health:, D...</td>\n",
       "      <td>2020-02-20</td>\n",
       "      <td>, OANDA, FCoin, Us, P Chidambaram, Nashvilles,...</td>\n",
       "      <td>61</td>\n",
       "      <td>0</td>\n",
       "      <td>44</td>\n",
       "      <td>61</td>\n",
       "    </tr>\n",
       "    <tr>\n",
       "      <td>5723</td>\n",
       "      <td>2020-02-21</td>\n",
       "      <td>The Real Flower Petal Confetti Company, Garden...</td>\n",
       "      <td>2020-02-21</td>\n",
       "      <td>, OANDA, Us, Balls Mahoney, Lacey Evans, Toron...</td>\n",
       "      <td>60</td>\n",
       "      <td>0</td>\n",
       "      <td>44</td>\n",
       "      <td>61</td>\n",
       "    </tr>\n",
       "    <tr>\n",
       "      <td>5724</td>\n",
       "      <td>2020-02-22</td>\n",
       "      <td>Carrie Elizabeth, UK, Carrie Elizabeth, Laura ...</td>\n",
       "      <td>2020-02-22</td>\n",
       "      <td>, Us, Artem, Lacey Evans, Diet, Embassy, Nike ...</td>\n",
       "      <td>49</td>\n",
       "      <td>0</td>\n",
       "      <td>39</td>\n",
       "      <td>64</td>\n",
       "    </tr>\n",
       "  </tbody>\n",
       "</table>\n",
       "<p>5725 rows × 8 columns</p>\n",
       "</div>"
      ],
      "text/plain": [
       "           dates                                             entity  \\\n",
       "0     1970-01-01                                             London   \n",
       "1     1970-07-02                     Kevin Pollak's, Kevin Pollak's   \n",
       "2     1993-01-03                                         Christians   \n",
       "3     1993-01-10                               James English, Bible   \n",
       "4     1993-01-24                          Solomon, Christians, Greg   \n",
       "...          ...                                                ...   \n",
       "5720  2020-02-18  ABR, YEE (YEE), YEE (CURRENCY, YEE, US, DigiFi...   \n",
       "5721  2020-02-19  Kate, Property Auction, Jonie, US, Jonathan, D...   \n",
       "5722  2020-02-20  HEDS, EQ-5D-5L, HTA, ReQol, Valuing Health:, D...   \n",
       "5723  2020-02-21  The Real Flower Petal Confetti Company, Garden...   \n",
       "5724  2020-02-22  Carrie Elizabeth, UK, Carrie Elizabeth, Laura ...   \n",
       "\n",
       "         dates2                                           overlaps  \\\n",
       "0    1970-01-01                                                      \n",
       "1    1970-07-02                                                      \n",
       "2    1993-01-03                                                      \n",
       "3    1993-01-10                                                      \n",
       "4    1993-01-24                                                      \n",
       "...         ...                                                ...   \n",
       "5720 2020-02-18  , FCoin, Us, American Dream, Harry Maguire, Wa...   \n",
       "5721 2020-02-19  , OANDA, FCoin, Us, P Chidambaram, Nashvilles,...   \n",
       "5722 2020-02-20  , OANDA, FCoin, Us, P Chidambaram, Nashvilles,...   \n",
       "5723 2020-02-21  , OANDA, Us, Balls Mahoney, Lacey Evans, Toron...   \n",
       "5724 2020-02-22  , Us, Artem, Lacey Evans, Diet, Embassy, Nike ...   \n",
       "\n",
       "      left_percent  right_percet  union_percent  right_percent  \n",
       "0                0             0              0              0  \n",
       "1                0             0              0              0  \n",
       "2                0             0              0              0  \n",
       "3                0             0              0              0  \n",
       "4                0             0              0              0  \n",
       "...            ...           ...            ...            ...  \n",
       "5720            64             0             38             48  \n",
       "5721            64             0             44             59  \n",
       "5722            61             0             44             61  \n",
       "5723            60             0             44             61  \n",
       "5724            49             0             39             64  \n",
       "\n",
       "[5725 rows x 8 columns]"
      ]
     },
     "execution_count": 233,
     "metadata": {
      "tags": []
     },
     "output_type": "execute_result"
    }
   ],
   "source": [
    "newdf['left_percent'] = 0\n",
    "newdf['right_percent'] = 0\n",
    "newdf['union_percent'] = 0\n",
    "def detectevents(newdf):\n",
    "    for i in range(len(newdf)-1):\n",
    "        if newdf['overlaps'].values[i] == \"\":\n",
    "            pass\n",
    "        else:\n",
    "            a = list(newdf['overlaps'][i].split(\",\"))\n",
    "            b = list(newdf['overlaps'][i+1].split(\",\"))\n",
    "            newdf['left_percent'].values[i+1] = percentoverlap(a,b)[0]\n",
    "            newdf['right_percent'].values[i+1] = percentoverlap(a,b)[1]\n",
    "            newdf['union_percent'].values[i+1] = percentoverlap(a,b)[2]\n",
    "    return(newdf)\n",
    "detectevents(newdf)  "
   ]
  },
  {
   "cell_type": "markdown",
   "metadata": {
    "colab_type": "text",
    "id": "9cv8iddY9xpu"
   },
   "source": [
    "### Filter by 70% overlap and higher"
   ]
  },
  {
   "cell_type": "code",
   "execution_count": null,
   "metadata": {
    "colab": {},
    "colab_type": "code",
    "id": "fOeYeGgY9xpv",
    "outputId": "e866ea95-60ae-42f4-8762-5f2953d4d245"
   },
   "outputs": [
    {
     "data": {
      "text/html": [
       "<div>\n",
       "<style scoped>\n",
       "    .dataframe tbody tr th:only-of-type {\n",
       "        vertical-align: middle;\n",
       "    }\n",
       "\n",
       "    .dataframe tbody tr th {\n",
       "        vertical-align: top;\n",
       "    }\n",
       "\n",
       "    .dataframe thead th {\n",
       "        text-align: right;\n",
       "    }\n",
       "</style>\n",
       "<table border=\"1\" class=\"dataframe\">\n",
       "  <thead>\n",
       "    <tr style=\"text-align: right;\">\n",
       "      <th></th>\n",
       "      <th>dates</th>\n",
       "      <th>entity</th>\n",
       "      <th>dates2</th>\n",
       "      <th>overlaps</th>\n",
       "      <th>left_percent</th>\n",
       "      <th>right_percet</th>\n",
       "      <th>union_percent</th>\n",
       "      <th>right_percent</th>\n",
       "    </tr>\n",
       "  </thead>\n",
       "  <tbody>\n",
       "    <tr>\n",
       "      <td>91</td>\n",
       "      <td>1997-02-16</td>\n",
       "      <td>Bible, Christians</td>\n",
       "      <td>1997-02-16</td>\n",
       "      <td>Christians</td>\n",
       "      <td>100</td>\n",
       "      <td>0</td>\n",
       "      <td>100</td>\n",
       "      <td>100</td>\n",
       "    </tr>\n",
       "    <tr>\n",
       "      <td>114</td>\n",
       "      <td>1998-02-22</td>\n",
       "      <td>Christians, Greg, Titanic</td>\n",
       "      <td>1998-02-22</td>\n",
       "      <td>Greg</td>\n",
       "      <td>100</td>\n",
       "      <td>0</td>\n",
       "      <td>100</td>\n",
       "      <td>100</td>\n",
       "    </tr>\n",
       "    <tr>\n",
       "      <td>115</td>\n",
       "      <td>1998-03-01</td>\n",
       "      <td>Old Testament, God, Israel, Greg, New Testament</td>\n",
       "      <td>1998-03-01</td>\n",
       "      <td>Greg</td>\n",
       "      <td>100</td>\n",
       "      <td>0</td>\n",
       "      <td>100</td>\n",
       "      <td>100</td>\n",
       "    </tr>\n",
       "    <tr>\n",
       "      <td>123</td>\n",
       "      <td>1998-05-24</td>\n",
       "      <td>Eating Jesus/Bread of Heaven, Greg, Christian</td>\n",
       "      <td>1998-05-24</td>\n",
       "      <td>Greg</td>\n",
       "      <td>100</td>\n",
       "      <td>0</td>\n",
       "      <td>100</td>\n",
       "      <td>100</td>\n",
       "    </tr>\n",
       "    <tr>\n",
       "      <td>124</td>\n",
       "      <td>1998-05-31</td>\n",
       "      <td>Pakistan, India, Rest of the World, Greg, Chri...</td>\n",
       "      <td>1998-05-31</td>\n",
       "      <td>Greg</td>\n",
       "      <td>100</td>\n",
       "      <td>0</td>\n",
       "      <td>100</td>\n",
       "      <td>100</td>\n",
       "    </tr>\n",
       "    <tr>\n",
       "      <td>...</td>\n",
       "      <td>...</td>\n",
       "      <td>...</td>\n",
       "      <td>...</td>\n",
       "      <td>...</td>\n",
       "      <td>...</td>\n",
       "      <td>...</td>\n",
       "      <td>...</td>\n",
       "      <td>...</td>\n",
       "    </tr>\n",
       "    <tr>\n",
       "      <td>5662</td>\n",
       "      <td>2019-12-22</td>\n",
       "      <td>Stella, Trump, Everlane, Jaana, Thanksgiving, ...</td>\n",
       "      <td>2019-12-22</td>\n",
       "      <td>, Northampton, Strictly Come Dancing, Californ...</td>\n",
       "      <td>43</td>\n",
       "      <td>0</td>\n",
       "      <td>37</td>\n",
       "      <td>72</td>\n",
       "    </tr>\n",
       "    <tr>\n",
       "      <td>5697</td>\n",
       "      <td>2020-01-26</td>\n",
       "      <td>Boris Johnson, Tory, West Midlands, HS2, Conse...</td>\n",
       "      <td>2020-01-26</td>\n",
       "      <td>, Lucy Fallon, RT.com, Jason Brown, Us, Bike L...</td>\n",
       "      <td>41</td>\n",
       "      <td>0</td>\n",
       "      <td>36</td>\n",
       "      <td>73</td>\n",
       "    </tr>\n",
       "    <tr>\n",
       "      <td>5700</td>\n",
       "      <td>2020-01-29</td>\n",
       "      <td>Kirstie, Phil, Love, Rushden, Susan, John, Kir...</td>\n",
       "      <td>2020-01-29</td>\n",
       "      <td>, ITV News, Lapland, Smackdown Results, Whiteh...</td>\n",
       "      <td>17</td>\n",
       "      <td>0</td>\n",
       "      <td>16</td>\n",
       "      <td>78</td>\n",
       "    </tr>\n",
       "    <tr>\n",
       "      <td>5704</td>\n",
       "      <td>2020-02-02</td>\n",
       "      <td>San Francisco, Chiefs on Super Bowl, EPL OK, R...</td>\n",
       "      <td>2020-02-02</td>\n",
       "      <td>, RT.com, Zimbabwe, Boxing News, Frank B. Half...</td>\n",
       "      <td>51</td>\n",
       "      <td>0</td>\n",
       "      <td>44</td>\n",
       "      <td>77</td>\n",
       "    </tr>\n",
       "    <tr>\n",
       "      <td>5715</td>\n",
       "      <td>2020-02-13</td>\n",
       "      <td>Cajun potatoes &amp;, Lemon &amp;, State of Revenue Op...</td>\n",
       "      <td>2020-02-13</td>\n",
       "      <td>, Polar, Us, Lex Luthors, Toronto Star, Bucs, ...</td>\n",
       "      <td>52</td>\n",
       "      <td>0</td>\n",
       "      <td>43</td>\n",
       "      <td>71</td>\n",
       "    </tr>\n",
       "  </tbody>\n",
       "</table>\n",
       "<p>562 rows × 8 columns</p>\n",
       "</div>"
      ],
      "text/plain": [
       "           dates                                             entity  \\\n",
       "91    1997-02-16                                  Bible, Christians   \n",
       "114   1998-02-22                          Christians, Greg, Titanic   \n",
       "115   1998-03-01    Old Testament, God, Israel, Greg, New Testament   \n",
       "123   1998-05-24      Eating Jesus/Bread of Heaven, Greg, Christian   \n",
       "124   1998-05-31  Pakistan, India, Rest of the World, Greg, Chri...   \n",
       "...          ...                                                ...   \n",
       "5662  2019-12-22  Stella, Trump, Everlane, Jaana, Thanksgiving, ...   \n",
       "5697  2020-01-26  Boris Johnson, Tory, West Midlands, HS2, Conse...   \n",
       "5700  2020-01-29  Kirstie, Phil, Love, Rushden, Susan, John, Kir...   \n",
       "5704  2020-02-02  San Francisco, Chiefs on Super Bowl, EPL OK, R...   \n",
       "5715  2020-02-13  Cajun potatoes &, Lemon &, State of Revenue Op...   \n",
       "\n",
       "         dates2                                           overlaps  \\\n",
       "91   1997-02-16                                         Christians   \n",
       "114  1998-02-22                                               Greg   \n",
       "115  1998-03-01                                               Greg   \n",
       "123  1998-05-24                                               Greg   \n",
       "124  1998-05-31                                               Greg   \n",
       "...         ...                                                ...   \n",
       "5662 2019-12-22  , Northampton, Strictly Come Dancing, Californ...   \n",
       "5697 2020-01-26  , Lucy Fallon, RT.com, Jason Brown, Us, Bike L...   \n",
       "5700 2020-01-29  , ITV News, Lapland, Smackdown Results, Whiteh...   \n",
       "5704 2020-02-02  , RT.com, Zimbabwe, Boxing News, Frank B. Half...   \n",
       "5715 2020-02-13  , Polar, Us, Lex Luthors, Toronto Star, Bucs, ...   \n",
       "\n",
       "      left_percent  right_percet  union_percent  right_percent  \n",
       "91             100             0            100            100  \n",
       "114            100             0            100            100  \n",
       "115            100             0            100            100  \n",
       "123            100             0            100            100  \n",
       "124            100             0            100            100  \n",
       "...            ...           ...            ...            ...  \n",
       "5662            43             0             37             72  \n",
       "5697            41             0             36             73  \n",
       "5700            17             0             16             78  \n",
       "5704            51             0             44             77  \n",
       "5715            52             0             43             71  \n",
       "\n",
       "[562 rows x 8 columns]"
      ]
     },
     "execution_count": 235,
     "metadata": {
      "tags": []
     },
     "output_type": "execute_result"
    }
   ],
   "source": [
    "newdf[newdf['right_percent'] > 70]"
   ]
  },
  {
   "cell_type": "code",
   "execution_count": null,
   "metadata": {
    "colab": {},
    "colab_type": "code",
    "id": "LIc0sC_F9xpy"
   },
   "outputs": [],
   "source": []
  }
 ],
 "metadata": {
  "colab": {
   "name": "rss_event_detection_zhiyu.ipynb",
   "provenance": []
  },
  "kernelspec": {
   "display_name": "Python 3",
   "language": "python",
   "name": "python3"
  },
  "language_info": {
   "codemirror_mode": {
    "name": "ipython",
    "version": 3
   },
   "file_extension": ".py",
   "mimetype": "text/x-python",
   "name": "python",
   "nbconvert_exporter": "python",
   "pygments_lexer": "ipython3",
   "version": "3.8.5"
  }
 },
 "nbformat": 4,
 "nbformat_minor": 1
}
