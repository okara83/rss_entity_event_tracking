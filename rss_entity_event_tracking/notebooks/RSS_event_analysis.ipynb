{
 "cells": [
  {
   "cell_type": "code",
   "execution_count": 2,
   "metadata": {
    "colab": {
     "base_uri": "https://localhost:8080/",
     "height": 72
    },
    "colab_type": "code",
    "executionInfo": {
     "elapsed": 57361,
     "status": "ok",
     "timestamp": 1586226115301,
     "user": {
      "displayName": "Onur Kara",
      "photoUrl": "https://lh3.googleusercontent.com/a-/AOh14GgH8ux3WsUKeHXgRsfI0ie3h48gnoegzL4Z1hy-wg=s64",
      "userId": "08723139201599772388"
     },
     "user_tz": 240
    },
    "id": "w8sudJZobJpv",
    "outputId": "40628ee2-0017-4b01-e68a-86e497afc595"
   },
   "outputs": [
    {
     "ename": "ModuleNotFoundError",
     "evalue": "No module named 'psycopg2'",
     "output_type": "error",
     "traceback": [
      "\u001b[0;31m---------------------------------------------------------------------------\u001b[0m",
      "\u001b[0;31mModuleNotFoundError\u001b[0m                       Traceback (most recent call last)",
      "\u001b[0;32m<ipython-input-2-5775d3dc2c60>\u001b[0m in \u001b[0;36m<module>\u001b[0;34m\u001b[0m\n\u001b[0;32m----> 1\u001b[0;31m \u001b[0;32mimport\u001b[0m \u001b[0mpsycopg2\u001b[0m\u001b[0;34m\u001b[0m\u001b[0;34m\u001b[0m\u001b[0m\n\u001b[0m\u001b[1;32m      2\u001b[0m \u001b[0mdatabase\u001b[0m \u001b[0;34m=\u001b[0m \u001b[0;34m\"rssfeed\"\u001b[0m\u001b[0;34m\u001b[0m\u001b[0;34m\u001b[0m\u001b[0m\n\u001b[1;32m      3\u001b[0m \u001b[0mhostname\u001b[0m\u001b[0;34m=\u001b[0m\u001b[0;34m\"rssfeed.cjgj2uy1bapa.us-east-1.rds.amazonaws.com\"\u001b[0m\u001b[0;34m\u001b[0m\u001b[0;34m\u001b[0m\u001b[0m\n\u001b[1;32m      4\u001b[0m \u001b[0mport\u001b[0m\u001b[0;34m=\u001b[0m\u001b[0;34m\"5432\"\u001b[0m\u001b[0;34m\u001b[0m\u001b[0;34m\u001b[0m\u001b[0m\n\u001b[1;32m      5\u001b[0m \u001b[0muserid\u001b[0m\u001b[0;34m=\u001b[0m\u001b[0;34m\"postgres\"\u001b[0m\u001b[0;34m\u001b[0m\u001b[0;34m\u001b[0m\u001b[0m\n",
      "\u001b[0;31mModuleNotFoundError\u001b[0m: No module named 'psycopg2'"
     ]
    }
   ],
   "source": [
    "import psycopg2\n",
    "database = \"rssfeed\"\n",
    "hostname=\"rssfeed.cjgj2uy1bapa.us-east-1.rds.amazonaws.com\"\n",
    "port=\"5432\" \n",
    "userid=\"postgres\"\n",
    "passwrd=\"\"\n",
    "conn_string = \"host=\"+hostname+\" port=\"+port+\" dbname=\"+database+\" user=\"+userid+\" password=\"+passwrd\n",
    "conn = psycopg2.connect(conn_string)\n",
    "conn.autocommit=True\n",
    "cursor = conn.cursor()\n",
    "sqlSelect = \"SELECT * FROM rss_entities_with_pub\";\n",
    "cursor.execute(sqlSelect);\n",
    "rows = cursor.fetchall();"
   ]
  },
  {
   "cell_type": "code",
   "execution_count": null,
   "metadata": {
    "colab": {},
    "colab_type": "code",
    "id": "0JGccROFbPnC"
   },
   "outputs": [],
   "source": [
    "## Publisher url codes\n",
    "import pandas as pd\n",
    "from tqdm import tqdm\n",
    "publishers = pd.read_json('data/rss_feed.json', typ='series')\n",
    "publishers = publishers.to_dict()\n",
    "pub = {v: k for k, v in publishers.items()}"
   ]
  },
  {
   "cell_type": "code",
   "execution_count": null,
   "metadata": {
    "colab": {
     "base_uri": "https://localhost:8080/",
     "height": 202
    },
    "colab_type": "code",
    "executionInfo": {
     "elapsed": 62172,
     "status": "ok",
     "timestamp": 1586226120135,
     "user": {
      "displayName": "Onur Kara",
      "photoUrl": "https://lh3.googleusercontent.com/a-/AOh14GgH8ux3WsUKeHXgRsfI0ie3h48gnoegzL4Z1hy-wg=s64",
      "userId": "08723139201599772388"
     },
     "user_tz": 240
    },
    "id": "cPXQ80lpbSm8",
    "outputId": "8f80aa83-e372-4488-fcc6-558747fbc879"
   },
   "outputs": [
    {
     "data": {
      "text/html": [
       "<div>\n",
       "<style scoped>\n",
       "    .dataframe tbody tr th:only-of-type {\n",
       "        vertical-align: middle;\n",
       "    }\n",
       "\n",
       "    .dataframe tbody tr th {\n",
       "        vertical-align: top;\n",
       "    }\n",
       "\n",
       "    .dataframe thead th {\n",
       "        text-align: right;\n",
       "    }\n",
       "</style>\n",
       "<table border=\"1\" class=\"dataframe\">\n",
       "  <thead>\n",
       "    <tr style=\"text-align: right;\">\n",
       "      <th></th>\n",
       "      <th>publisher_code</th>\n",
       "      <th>entity</th>\n",
       "      <th>publish_time</th>\n",
       "      <th>publisher</th>\n",
       "    </tr>\n",
       "  </thead>\n",
       "  <tbody>\n",
       "    <tr>\n",
       "      <th>0</th>\n",
       "      <td>12787</td>\n",
       "      <td>Ministry of External Affairs</td>\n",
       "      <td>2020-02-06T17:05:24+05:30</td>\n",
       "      <td>https://www.thehindubusinessline.com/markets/c...</td>\n",
       "    </tr>\n",
       "    <tr>\n",
       "      <th>1</th>\n",
       "      <td>11750</td>\n",
       "      <td>Jay-Z</td>\n",
       "      <td>2020-02-06T21:28:13+00:00</td>\n",
       "      <td>https://www.huffingtonpost.com.au/feeds/index.xml</td>\n",
       "    </tr>\n",
       "    <tr>\n",
       "      <th>2</th>\n",
       "      <td>11750</td>\n",
       "      <td>Kobe Bryant</td>\n",
       "      <td>2020-02-06T21:28:13+00:00</td>\n",
       "      <td>https://www.huffingtonpost.com.au/feeds/index.xml</td>\n",
       "    </tr>\n",
       "    <tr>\n",
       "      <th>3</th>\n",
       "      <td>11750</td>\n",
       "      <td>Giannas</td>\n",
       "      <td>2020-02-06T21:28:13+00:00</td>\n",
       "      <td>https://www.huffingtonpost.com.au/feeds/index.xml</td>\n",
       "    </tr>\n",
       "    <tr>\n",
       "      <th>4</th>\n",
       "      <td>11750</td>\n",
       "      <td>Columbia University</td>\n",
       "      <td>2020-02-06T21:28:13+00:00</td>\n",
       "      <td>https://www.huffingtonpost.com.au/feeds/index.xml</td>\n",
       "    </tr>\n",
       "  </tbody>\n",
       "</table>\n",
       "</div>"
      ],
      "text/plain": [
       "   publisher_code  ...                                          publisher\n",
       "0           12787  ...  https://www.thehindubusinessline.com/markets/c...\n",
       "1           11750  ...  https://www.huffingtonpost.com.au/feeds/index.xml\n",
       "2           11750  ...  https://www.huffingtonpost.com.au/feeds/index.xml\n",
       "3           11750  ...  https://www.huffingtonpost.com.au/feeds/index.xml\n",
       "4           11750  ...  https://www.huffingtonpost.com.au/feeds/index.xml\n",
       "\n",
       "[5 rows x 4 columns]"
      ]
     },
     "execution_count": 3,
     "metadata": {
      "tags": []
     },
     "output_type": "execute_result"
    }
   ],
   "source": [
    "rssdf = pd.DataFrame(rows)\n",
    "rssdf.columns = ['publisher_code','entity','publish_time']\n",
    "rssdf[\"publisher\"] = rssdf[\"publisher_code\"].map(pub)  \n",
    "rssdf.head()"
   ]
  },
  {
   "cell_type": "code",
   "execution_count": null,
   "metadata": {
    "colab": {
     "base_uri": "https://localhost:8080/",
     "height": 35
    },
    "colab_type": "code",
    "executionInfo": {
     "elapsed": 68339,
     "status": "ok",
     "timestamp": 1586226126315,
     "user": {
      "displayName": "Onur Kara",
      "photoUrl": "https://lh3.googleusercontent.com/a-/AOh14GgH8ux3WsUKeHXgRsfI0ie3h48gnoegzL4Z1hy-wg=s64",
      "userId": "08723139201599772388"
     },
     "user_tz": 240
    },
    "id": "CeqjwVAMbWKf",
    "outputId": "e35b1650-d7be-485e-87fe-d121988f5531"
   },
   "outputs": [
    {
     "name": "stdout",
     "output_type": "stream",
     "text": [
      "2020-02-06T17:05:24+05:30\n"
     ]
    }
   ],
   "source": [
    "from datetime import datetime\n",
    "rssdf['24hour_bucket'] = pd.to_datetime(rssdf['publish_time'],errors='coerce',format = '%Y-%m-%dT%H:%M:%S+00:00',\\\n",
    "                                        infer_datetime_format = True, cache = True)\n",
    "\n",
    "print(rssdf['publish_time'][0])\n"
   ]
  },
  {
   "cell_type": "code",
   "execution_count": null,
   "metadata": {
    "colab": {
     "base_uri": "https://localhost:8080/",
     "height": 141
    },
    "colab_type": "code",
    "executionInfo": {
     "elapsed": 72048,
     "status": "ok",
     "timestamp": 1586226130037,
     "user": {
      "displayName": "Onur Kara",
      "photoUrl": "https://lh3.googleusercontent.com/a-/AOh14GgH8ux3WsUKeHXgRsfI0ie3h48gnoegzL4Z1hy-wg=s64",
      "userId": "08723139201599772388"
     },
     "user_tz": 240
    },
    "id": "REk-pAXnbaIs",
    "outputId": "c4bac748-f3d9-447b-e9f3-9a62fdcf636f"
   },
   "outputs": [
    {
     "data": {
      "text/html": [
       "<div>\n",
       "<style scoped>\n",
       "    .dataframe tbody tr th:only-of-type {\n",
       "        vertical-align: middle;\n",
       "    }\n",
       "\n",
       "    .dataframe tbody tr th {\n",
       "        vertical-align: top;\n",
       "    }\n",
       "\n",
       "    .dataframe thead th {\n",
       "        text-align: right;\n",
       "    }\n",
       "</style>\n",
       "<table border=\"1\" class=\"dataframe\">\n",
       "  <thead>\n",
       "    <tr style=\"text-align: right;\">\n",
       "      <th></th>\n",
       "      <th>publisher_code</th>\n",
       "      <th>entity</th>\n",
       "      <th>publish_time</th>\n",
       "      <th>publisher</th>\n",
       "      <th>24hour_bucket</th>\n",
       "      <th>dates</th>\n",
       "    </tr>\n",
       "  </thead>\n",
       "  <tbody>\n",
       "    <tr>\n",
       "      <th>0</th>\n",
       "      <td>12787</td>\n",
       "      <td>Ministry of External Affairs</td>\n",
       "      <td>2020-02-06T17:05:24+05:30</td>\n",
       "      <td>https://www.thehindubusinessline.com/markets/c...</td>\n",
       "      <td>NaT</td>\n",
       "      <td>NaT</td>\n",
       "    </tr>\n",
       "    <tr>\n",
       "      <th>1</th>\n",
       "      <td>11750</td>\n",
       "      <td>Jay-Z</td>\n",
       "      <td>2020-02-06T21:28:13+00:00</td>\n",
       "      <td>https://www.huffingtonpost.com.au/feeds/index.xml</td>\n",
       "      <td>2020-02-06 21:28:13</td>\n",
       "      <td>2020-02-06</td>\n",
       "    </tr>\n",
       "    <tr>\n",
       "      <th>2</th>\n",
       "      <td>11750</td>\n",
       "      <td>Kobe Bryant</td>\n",
       "      <td>2020-02-06T21:28:13+00:00</td>\n",
       "      <td>https://www.huffingtonpost.com.au/feeds/index.xml</td>\n",
       "      <td>2020-02-06 21:28:13</td>\n",
       "      <td>2020-02-06</td>\n",
       "    </tr>\n",
       "  </tbody>\n",
       "</table>\n",
       "</div>"
      ],
      "text/plain": [
       "   publisher_code                        entity  ...       24hour_bucket      dates\n",
       "0           12787  Ministry of External Affairs  ...                 NaT        NaT\n",
       "1           11750                         Jay-Z  ... 2020-02-06 21:28:13 2020-02-06\n",
       "2           11750                   Kobe Bryant  ... 2020-02-06 21:28:13 2020-02-06\n",
       "\n",
       "[3 rows x 6 columns]"
      ]
     },
     "execution_count": 5,
     "metadata": {
      "tags": []
     },
     "output_type": "execute_result"
    }
   ],
   "source": [
    "rssdf.head()\n",
    "rssdf['dates']= rssdf['24hour_bucket'].dt.date\n",
    "rssdf[\"dates\"] = pd.to_datetime(rssdf['dates'])\n",
    "rssdf.head(3)\n"
   ]
  },
  {
   "cell_type": "markdown",
   "metadata": {
    "colab_type": "text",
    "id": "gqfABxrzPGUH"
   },
   "source": [
    "## Generate Dataset\n"
   ]
  },
  {
   "cell_type": "code",
   "execution_count": null,
   "metadata": {
    "colab": {
     "base_uri": "https://localhost:8080/",
     "height": 141
    },
    "colab_type": "code",
    "executionInfo": {
     "elapsed": 2191,
     "status": "ok",
     "timestamp": 1586226154503,
     "user": {
      "displayName": "Onur Kara",
      "photoUrl": "https://lh3.googleusercontent.com/a-/AOh14GgH8ux3WsUKeHXgRsfI0ie3h48gnoegzL4Z1hy-wg=s64",
      "userId": "08723139201599772388"
     },
     "user_tz": 240
    },
    "id": "eKtK98RaOdl8",
    "outputId": "5d48515a-d945-47f4-94e5-d3618cb8ee72"
   },
   "outputs": [
    {
     "data": {
      "text/html": [
       "<div>\n",
       "<style scoped>\n",
       "    .dataframe tbody tr th:only-of-type {\n",
       "        vertical-align: middle;\n",
       "    }\n",
       "\n",
       "    .dataframe tbody tr th {\n",
       "        vertical-align: top;\n",
       "    }\n",
       "\n",
       "    .dataframe thead th {\n",
       "        text-align: right;\n",
       "    }\n",
       "</style>\n",
       "<table border=\"1\" class=\"dataframe\">\n",
       "  <thead>\n",
       "    <tr style=\"text-align: right;\">\n",
       "      <th></th>\n",
       "      <th>entity</th>\n",
       "      <th>dates</th>\n",
       "    </tr>\n",
       "  </thead>\n",
       "  <tbody>\n",
       "    <tr>\n",
       "      <th>0</th>\n",
       "      <td>London</td>\n",
       "      <td>1970-01-01</td>\n",
       "    </tr>\n",
       "    <tr>\n",
       "      <th>1</th>\n",
       "      <td>British</td>\n",
       "      <td>1970-01-01</td>\n",
       "    </tr>\n",
       "    <tr>\n",
       "      <th>2</th>\n",
       "      <td>Kevin Pollak's</td>\n",
       "      <td>1970-07-02</td>\n",
       "    </tr>\n",
       "  </tbody>\n",
       "</table>\n",
       "</div>"
      ],
      "text/plain": [
       "           entity      dates\n",
       "0          London 1970-01-01\n",
       "1         British 1970-01-01\n",
       "2  Kevin Pollak's 1970-07-02"
      ]
     },
     "execution_count": 9,
     "metadata": {
      "tags": []
     },
     "output_type": "execute_result"
    }
   ],
   "source": [
    "import datetime\n",
    "import numpy as np\n",
    "newDf = pd.DataFrame(rssdf.loc[:, [\"entity\", \"dates\"]])\n",
    "newDf = newDf.sort_values(by = \"dates\")\n",
    "newDf = newDf.reset_index(drop=True)\n",
    "newDf.head(3)"
   ]
  },
  {
   "cell_type": "code",
   "execution_count": null,
   "metadata": {
    "colab": {
     "base_uri": "https://localhost:8080/",
     "height": 247
    },
    "colab_type": "code",
    "executionInfo": {
     "elapsed": 1594,
     "status": "ok",
     "timestamp": 1586226404719,
     "user": {
      "displayName": "Onur Kara",
      "photoUrl": "https://lh3.googleusercontent.com/a-/AOh14GgH8ux3WsUKeHXgRsfI0ie3h48gnoegzL4Z1hy-wg=s64",
      "userId": "08723139201599772388"
     },
     "user_tz": 240
    },
    "id": "cCsz4hUZn8K8",
    "outputId": "a8c04e82-9aa9-4a49-df62-5385649ec480"
   },
   "outputs": [
    {
     "name": "stderr",
     "output_type": "stream",
     "text": [
      "/usr/local/lib/python3.6/dist-packages/ipykernel_launcher.py:7: FutureWarning: The pandas.datetime class is deprecated and will be removed from pandas in a future version. Import from datetime instead.\n",
      "  import sys\n"
     ]
    },
    {
     "name": "stdout",
     "output_type": "stream",
     "text": [
      "ERROR! Session/line number was not unique in database. History logging moved to new session 59\n"
     ]
    },
    {
     "name": "stderr",
     "output_type": "stream",
     "text": [
      "/usr/local/lib/python3.6/dist-packages/ipykernel_launcher.py:8: FutureWarning: The pandas.datetime class is deprecated and will be removed from pandas in a future version. Import from datetime instead.\n",
      "  \n"
     ]
    },
    {
     "data": {
      "text/html": [
       "<div>\n",
       "<style scoped>\n",
       "    .dataframe tbody tr th:only-of-type {\n",
       "        vertical-align: middle;\n",
       "    }\n",
       "\n",
       "    .dataframe tbody tr th {\n",
       "        vertical-align: top;\n",
       "    }\n",
       "\n",
       "    .dataframe thead th {\n",
       "        text-align: right;\n",
       "    }\n",
       "</style>\n",
       "<table border=\"1\" class=\"dataframe\">\n",
       "  <thead>\n",
       "    <tr style=\"text-align: right;\">\n",
       "      <th></th>\n",
       "      <th>entity</th>\n",
       "      <th>dates</th>\n",
       "    </tr>\n",
       "  </thead>\n",
       "  <tbody>\n",
       "    <tr>\n",
       "      <th>0</th>\n",
       "      <td>PT Money</td>\n",
       "      <td>2017-01-02</td>\n",
       "    </tr>\n",
       "    <tr>\n",
       "      <th>1</th>\n",
       "      <td>New Years Eve</td>\n",
       "      <td>2017-01-02</td>\n",
       "    </tr>\n",
       "    <tr>\n",
       "      <th>2</th>\n",
       "      <td>Instagram</td>\n",
       "      <td>2017-01-02</td>\n",
       "    </tr>\n",
       "  </tbody>\n",
       "</table>\n",
       "</div>"
      ],
      "text/plain": [
       "          entity      dates\n",
       "0       PT Money 2017-01-02\n",
       "1  New Years Eve 2017-01-02\n",
       "2      Instagram 2017-01-02"
      ]
     },
     "execution_count": 14,
     "metadata": {
      "tags": []
     },
     "output_type": "execute_result"
    }
   ],
   "source": [
    "# selecting date range\n",
    "import sys\n",
    "\n",
    "if not sys.warnoptions:\n",
    "    import warnings\n",
    "    warnings.simplefilter(\"ignore\")\n",
    "\n",
    "newDf = newDf[ newDf.dates > pd.datetime(2017,1, 1)]\n",
    "newDf = newDf[newDf.dates<pd.datetime(2020,3,8)]\n",
    "newDf = newDf.reset_index(drop=True)\n",
    "newDf.head(3) \n"
   ]
  },
  {
   "cell_type": "code",
   "execution_count": null,
   "metadata": {
    "colab": {
     "base_uri": "https://localhost:8080/",
     "height": 35
    },
    "colab_type": "code",
    "executionInfo": {
     "elapsed": 563,
     "status": "ok",
     "timestamp": 1586226415086,
     "user": {
      "displayName": "Onur Kara",
      "photoUrl": "https://lh3.googleusercontent.com/a-/AOh14GgH8ux3WsUKeHXgRsfI0ie3h48gnoegzL4Z1hy-wg=s64",
      "userId": "08723139201599772388"
     },
     "user_tz": 240
    },
    "id": "QHe3jfzbsfNK",
    "outputId": "a10ddfe7-d916-435d-ea07-4182ab22aa67"
   },
   "outputs": [
    {
     "data": {
      "text/plain": [
       "'2020-03-08'"
      ]
     },
     "execution_count": 16,
     "metadata": {
      "tags": []
     },
     "output_type": "execute_result"
    }
   ],
   "source": [
    "import datetime as dt\n",
    "time_range = pd.date_range(start = \"2017-01-01\", end = \"2020-03-08\", freq = \"D\").to_series()\n",
    "list_range = list(zip(time_range.dt.strftime('%Y-%m-%d'), time_range.shift(-4).dropna().dt.strftime('%Y-%m-%d')))\n",
    "list_range[-1][1]"
   ]
  },
  {
   "cell_type": "markdown",
   "metadata": {
    "colab_type": "text",
    "id": "CMqmTNLQIHsg"
   },
   "source": [
    "## Summary\n",
    "\n",
    "Thoughts: For each row (7-day period), I have a collection of entities and rank they by their frequencies in each slicing window.\n",
    "\n",
    "Rank an entity by its frequency over the entire dataset and the frequency amony the slicing windows and its frequency in its 7-day time window, then assign some weight to each time window. (Simliar to TF-IDF)\n",
    "\n",
    "1.   Score for slicing window: 30 - 1\n",
    "2.   Score for entity in each slicing window: 10 - 1\n",
    "3.   Weight for each entity in all slicing window: number of entity  appeared times / number of total entity appears times\n",
    "\n",
    "Final score for the entity: (part_1 + part_2) * part_3\n",
    "\n",
    "\n",
    "\n",
    "\n",
    "\n",
    "\n",
    "\n",
    "\n"
   ]
  },
  {
   "cell_type": "markdown",
   "metadata": {
    "colab_type": "text",
    "id": "GBy8yi58DCkb"
   },
   "source": [
    "## Generate top 10 high frequency entity for each slicing window\n",
    "\n"
   ]
  },
  {
   "cell_type": "code",
   "execution_count": null,
   "metadata": {
    "colab": {},
    "colab_type": "code",
    "id": "6R1yFFCev2LL"
   },
   "outputs": [],
   "source": [
    "from collections import defaultdict\n",
    "import operator\n",
    "def generate_entity(df, list_range):\n",
    "    slicing_window = []\n",
    "    time_index = 0\n",
    "    start_range = [dt.datetime.strptime(list_range[0][0], '%Y-%m-%d').date(), dt.datetime.strptime(list_range[0][1], '%Y-%m-%d').date()]\n",
    "    dic = defaultdict(int)\n",
    "    total_dict = defaultdict(int)\n",
    "    total_entity = 0\n",
    "    #max_freq = 0\n",
    "    for i in tqdm(range(df.shape[0])):\n",
    "        time = df.loc[i,\"dates\"]\n",
    "        if time > start_range[1]:\n",
    "            dic = dict(sorted(dic.items(), key=operator.itemgetter(1),reverse=True))\n",
    "            #   max_freq = max(len(dic.keys() ), max_freq)\n",
    "            slicing_window.append(dic )\n",
    "            dic = defaultdict(int)\n",
    "            time_index += 1\n",
    "            start_range = [dt.datetime.strptime(list_range[time_index][0], '%Y-%m-%d').date(), dt.datetime.strptime(list_range[time_index ][1], '%Y-%m-%d').date()]\n",
    "        #max_freq = max(len(dic.keys() ), max_freq)\n",
    "        item =  df.loc[i, \"entity\"]\n",
    "        total_dict[item] += 1\n",
    "        dic[item] += 1\n",
    "        total_entity += 1\n",
    "    total_dict = dict(sorted(total_dict.items(), key=operator.itemgetter(1),reverse=True))\n",
    "    #generate_df = pd.DataFrame(data = None, columns = [\"Time_range\"] + [\"Entity\" + str(i) for i in range(1, max_freq + 1)])\n",
    "    generate_df = pd.DataFrame(data = None, columns = [\"Time_range\"] + [\"Entity\" + str(i) for i in range(1, 11)])\n",
    "    generate_df[\"Time_range\"] = list_range\n",
    "    for i in tqdm(range(len(slicing_window))):\n",
    "        temp = slicing_window[i]\n",
    "        #generate_df.loc[i,1:]  = [ i for i in temp.keys()]  + [None] * (generate_df.shape[1] - 1 - len(list(temp.keys())))\n",
    "        temp = list(temp.keys())\n",
    "        if len(temp) < 10:\n",
    "            temp += [None] * (10 -len(temp))\n",
    "        generate_df.loc[i,1:] = temp[:10]\n",
    "    return generate_df , total_dict, total_entity\n",
    "    "
   ]
  },
  {
   "cell_type": "code",
   "execution_count": null,
   "metadata": {
    "colab": {
     "base_uri": "https://localhost:8080/",
     "height": 52
    },
    "colab_type": "code",
    "executionInfo": {
     "elapsed": 253323,
     "status": "ok",
     "timestamp": 1586226676777,
     "user": {
      "displayName": "Onur Kara",
      "photoUrl": "https://lh3.googleusercontent.com/a-/AOh14GgH8ux3WsUKeHXgRsfI0ie3h48gnoegzL4Z1hy-wg=s64",
      "userId": "08723139201599772388"
     },
     "user_tz": 240
    },
    "id": "2U8yEnXRbomS",
    "outputId": "ab35e112-721e-42d0-c1fb-b936c656519b"
   },
   "outputs": [
    {
     "name": "stderr",
     "output_type": "stream",
     "text": [
      "100%|██████████| 6166851/6166851 [04:11<00:00, 24546.72it/s]\n",
      "100%|██████████| 1157/1157 [00:00<00:00, 2940.28it/s]\n"
     ]
    }
   ],
   "source": [
    "entityCollection, totalDict, countEntity = generate_entity(newDf, list_range)"
   ]
  },
  {
   "cell_type": "code",
   "execution_count": null,
   "metadata": {
    "colab": {
     "base_uri": "https://localhost:8080/",
     "height": 289
    },
    "colab_type": "code",
    "executionInfo": {
     "elapsed": 640,
     "status": "ok",
     "timestamp": 1586226691978,
     "user": {
      "displayName": "Onur Kara",
      "photoUrl": "https://lh3.googleusercontent.com/a-/AOh14GgH8ux3WsUKeHXgRsfI0ie3h48gnoegzL4Z1hy-wg=s64",
      "userId": "08723139201599772388"
     },
     "user_tz": 240
    },
    "id": "0ebMv7oT5GR-",
    "outputId": "8baf2d78-95a2-4c10-cc73-3df3ce1d4919"
   },
   "outputs": [
    {
     "data": {
      "text/html": [
       "<div>\n",
       "<style scoped>\n",
       "    .dataframe tbody tr th:only-of-type {\n",
       "        vertical-align: middle;\n",
       "    }\n",
       "\n",
       "    .dataframe tbody tr th {\n",
       "        vertical-align: top;\n",
       "    }\n",
       "\n",
       "    .dataframe thead th {\n",
       "        text-align: right;\n",
       "    }\n",
       "</style>\n",
       "<table border=\"1\" class=\"dataframe\">\n",
       "  <thead>\n",
       "    <tr style=\"text-align: right;\">\n",
       "      <th></th>\n",
       "      <th>Time_range</th>\n",
       "      <th>Entity1</th>\n",
       "      <th>Entity2</th>\n",
       "      <th>Entity3</th>\n",
       "      <th>Entity4</th>\n",
       "      <th>Entity5</th>\n",
       "      <th>Entity6</th>\n",
       "      <th>Entity7</th>\n",
       "      <th>Entity8</th>\n",
       "      <th>Entity9</th>\n",
       "      <th>Entity10</th>\n",
       "    </tr>\n",
       "  </thead>\n",
       "  <tbody>\n",
       "    <tr>\n",
       "      <th>0</th>\n",
       "      <td>(2017-01-01, 2017-01-05)</td>\n",
       "      <td>New Year</td>\n",
       "      <td>Gizele Oliveira</td>\n",
       "      <td>Facebook</td>\n",
       "      <td>Twitter</td>\n",
       "      <td>Thorsten Walles</td>\n",
       "      <td>iTunes</td>\n",
       "      <td>Heike Walles</td>\n",
       "      <td>US</td>\n",
       "      <td>Patreon</td>\n",
       "      <td>English</td>\n",
       "    </tr>\n",
       "    <tr>\n",
       "      <th>1</th>\n",
       "      <td>(2017-01-02, 2017-01-06)</td>\n",
       "      <td>Facebook</td>\n",
       "      <td>Twitter</td>\n",
       "      <td>iTunes</td>\n",
       "      <td>Shira Weinberger Photography</td>\n",
       "      <td>Kalen Bruce</td>\n",
       "      <td>Freebie Podcast Series</td>\n",
       "      <td>Instagram</td>\n",
       "      <td>Leo Babauta</td>\n",
       "      <td>Trump</td>\n",
       "      <td>Brian Altano</td>\n",
       "    </tr>\n",
       "    <tr>\n",
       "      <th>2</th>\n",
       "      <td>(2017-01-03, 2017-01-07)</td>\n",
       "      <td>Jenny Craig</td>\n",
       "      <td>Surface Studio</td>\n",
       "      <td>Scott Anfang</td>\n",
       "      <td>Rancho Obi-Wan</td>\n",
       "      <td>IP</td>\n",
       "      <td>Dell</td>\n",
       "      <td>Christopher Mott</td>\n",
       "      <td>Eileen Opatut</td>\n",
       "      <td>Japanese</td>\n",
       "      <td>Terrible Board</td>\n",
       "    </tr>\n",
       "    <tr>\n",
       "      <th>3</th>\n",
       "      <td>(2017-01-04, 2017-01-08)</td>\n",
       "      <td>Tii - iTem</td>\n",
       "      <td>Gregory Koldirkaev</td>\n",
       "      <td>Jeff Kear</td>\n",
       "      <td>gespeeld</td>\n",
       "      <td>The Live Fit Girls</td>\n",
       "      <td>Bret Bonnet</td>\n",
       "      <td>Obamacare</td>\n",
       "      <td>Digital Dating Disruptor</td>\n",
       "      <td>The Feed Podcast App Store Shatters Records</td>\n",
       "      <td>New Year</td>\n",
       "    </tr>\n",
       "    <tr>\n",
       "      <th>4</th>\n",
       "      <td>(2017-01-05, 2017-01-09)</td>\n",
       "      <td>Guru Singh</td>\n",
       "      <td>iTunes</td>\n",
       "      <td>Twitter</td>\n",
       "      <td>Brittany Hughes</td>\n",
       "      <td>Haben Girma</td>\n",
       "      <td>Patreon</td>\n",
       "      <td>Facebook</td>\n",
       "      <td>Donald Trump</td>\n",
       "      <td>Le Chiffre</td>\n",
       "      <td>English</td>\n",
       "    </tr>\n",
       "  </tbody>\n",
       "</table>\n",
       "</div>"
      ],
      "text/plain": [
       "                 Time_range  ...        Entity10\n",
       "0  (2017-01-01, 2017-01-05)  ...         English\n",
       "1  (2017-01-02, 2017-01-06)  ...    Brian Altano\n",
       "2  (2017-01-03, 2017-01-07)  ...  Terrible Board\n",
       "3  (2017-01-04, 2017-01-08)  ...        New Year\n",
       "4  (2017-01-05, 2017-01-09)  ...         English\n",
       "\n",
       "[5 rows x 11 columns]"
      ]
     },
     "execution_count": 19,
     "metadata": {
      "tags": []
     },
     "output_type": "execute_result"
    }
   ],
   "source": [
    "entityCollection.head()"
   ]
  },
  {
   "cell_type": "code",
   "execution_count": null,
   "metadata": {
    "colab": {
     "base_uri": "https://localhost:8080/",
     "height": 35
    },
    "colab_type": "code",
    "executionInfo": {
     "elapsed": 636,
     "status": "ok",
     "timestamp": 1586226694964,
     "user": {
      "displayName": "Onur Kara",
      "photoUrl": "https://lh3.googleusercontent.com/a-/AOh14GgH8ux3WsUKeHXgRsfI0ie3h48gnoegzL4Z1hy-wg=s64",
      "userId": "08723139201599772388"
     },
     "user_tz": 240
    },
    "id": "ZVdLlaKRSEE8",
    "outputId": "27636542-ebce-41c8-bfd3-1158c9f3b816"
   },
   "outputs": [
    {
     "data": {
      "text/plain": [
       "6166851"
      ]
     },
     "execution_count": 20,
     "metadata": {
      "tags": []
     },
     "output_type": "execute_result"
    }
   ],
   "source": [
    "entityCollection.iloc[0,1]\n",
    "countEntity"
   ]
  },
  {
   "cell_type": "markdown",
   "metadata": {
    "colab_type": "text",
    "id": "YbB93oG2z21E"
   },
   "source": [
    "## Scoring the entity from the recent month"
   ]
  },
  {
   "cell_type": "code",
   "execution_count": null,
   "metadata": {
    "colab": {
     "base_uri": "https://localhost:8080/",
     "height": 986
    },
    "colab_type": "code",
    "executionInfo": {
     "elapsed": 1291,
     "status": "ok",
     "timestamp": 1586226701875,
     "user": {
      "displayName": "Onur Kara",
      "photoUrl": "https://lh3.googleusercontent.com/a-/AOh14GgH8ux3WsUKeHXgRsfI0ie3h48gnoegzL4Z1hy-wg=s64",
      "userId": "08723139201599772388"
     },
     "user_tz": 240
    },
    "id": "7Wz2l06vHHsj",
    "outputId": "c178dd17-346f-4355-a963-ac4322a2d272"
   },
   "outputs": [
    {
     "name": "stderr",
     "output_type": "stream",
     "text": [
      "100%|██████████| 210/210 [00:00<00:00, 10067.71it/s]\n"
     ]
    },
    {
     "data": {
      "text/html": [
       "<div>\n",
       "<style scoped>\n",
       "    .dataframe tbody tr th:only-of-type {\n",
       "        vertical-align: middle;\n",
       "    }\n",
       "\n",
       "    .dataframe tbody tr th {\n",
       "        vertical-align: top;\n",
       "    }\n",
       "\n",
       "    .dataframe thead th {\n",
       "        text-align: right;\n",
       "    }\n",
       "</style>\n",
       "<table border=\"1\" class=\"dataframe\">\n",
       "  <thead>\n",
       "    <tr style=\"text-align: right;\">\n",
       "      <th></th>\n",
       "      <th>Entity</th>\n",
       "      <th>Score</th>\n",
       "    </tr>\n",
       "  </thead>\n",
       "  <tbody>\n",
       "    <tr>\n",
       "      <th>0</th>\n",
       "      <td>UK</td>\n",
       "      <td>100.00</td>\n",
       "    </tr>\n",
       "    <tr>\n",
       "      <th>1</th>\n",
       "      <td>US</td>\n",
       "      <td>96.32</td>\n",
       "    </tr>\n",
       "    <tr>\n",
       "      <th>2</th>\n",
       "      <td>China</td>\n",
       "      <td>93.10</td>\n",
       "    </tr>\n",
       "    <tr>\n",
       "      <th>3</th>\n",
       "      <td>Trump</td>\n",
       "      <td>83.06</td>\n",
       "    </tr>\n",
       "    <tr>\n",
       "      <th>4</th>\n",
       "      <td>India</td>\n",
       "      <td>61.79</td>\n",
       "    </tr>\n",
       "    <tr>\n",
       "      <th>5</th>\n",
       "      <td>U.S.</td>\n",
       "      <td>61.36</td>\n",
       "    </tr>\n",
       "    <tr>\n",
       "      <th>6</th>\n",
       "      <td>London</td>\n",
       "      <td>52.78</td>\n",
       "    </tr>\n",
       "    <tr>\n",
       "      <th>7</th>\n",
       "      <td>Facebook</td>\n",
       "      <td>49.59</td>\n",
       "    </tr>\n",
       "    <tr>\n",
       "      <th>8</th>\n",
       "      <td>Instagram</td>\n",
       "      <td>43.64</td>\n",
       "    </tr>\n",
       "    <tr>\n",
       "      <th>9</th>\n",
       "      <td>Twitter</td>\n",
       "      <td>40.06</td>\n",
       "    </tr>\n",
       "    <tr>\n",
       "      <th>10</th>\n",
       "      <td>Google News</td>\n",
       "      <td>38.10</td>\n",
       "    </tr>\n",
       "    <tr>\n",
       "      <th>11</th>\n",
       "      <td>England</td>\n",
       "      <td>32.54</td>\n",
       "    </tr>\n",
       "    <tr>\n",
       "      <th>12</th>\n",
       "      <td>Chinese</td>\n",
       "      <td>32.03</td>\n",
       "    </tr>\n",
       "    <tr>\n",
       "      <th>13</th>\n",
       "      <td>Australia</td>\n",
       "      <td>31.26</td>\n",
       "    </tr>\n",
       "    <tr>\n",
       "      <th>14</th>\n",
       "      <td>Donald Trump</td>\n",
       "      <td>30.18</td>\n",
       "    </tr>\n",
       "    <tr>\n",
       "      <th>15</th>\n",
       "      <td>Liverpool</td>\n",
       "      <td>29.35</td>\n",
       "    </tr>\n",
       "    <tr>\n",
       "      <th>16</th>\n",
       "      <td>NBA</td>\n",
       "      <td>28.12</td>\n",
       "    </tr>\n",
       "    <tr>\n",
       "      <th>17</th>\n",
       "      <td>Amazon</td>\n",
       "      <td>27.83</td>\n",
       "    </tr>\n",
       "    <tr>\n",
       "      <th>18</th>\n",
       "      <td>American</td>\n",
       "      <td>26.05</td>\n",
       "    </tr>\n",
       "    <tr>\n",
       "      <th>19</th>\n",
       "      <td>Coronavirus</td>\n",
       "      <td>25.81</td>\n",
       "    </tr>\n",
       "    <tr>\n",
       "      <th>20</th>\n",
       "      <td>Democratic</td>\n",
       "      <td>24.44</td>\n",
       "    </tr>\n",
       "    <tr>\n",
       "      <th>21</th>\n",
       "      <td>Australian</td>\n",
       "      <td>24.19</td>\n",
       "    </tr>\n",
       "    <tr>\n",
       "      <th>22</th>\n",
       "      <td>British</td>\n",
       "      <td>23.17</td>\n",
       "    </tr>\n",
       "    <tr>\n",
       "      <th>23</th>\n",
       "      <td>Manchester United</td>\n",
       "      <td>20.51</td>\n",
       "    </tr>\n",
       "    <tr>\n",
       "      <th>24</th>\n",
       "      <td>California</td>\n",
       "      <td>20.36</td>\n",
       "    </tr>\n",
       "    <tr>\n",
       "      <th>25</th>\n",
       "      <td>Bernie Sanders</td>\n",
       "      <td>19.48</td>\n",
       "    </tr>\n",
       "    <tr>\n",
       "      <th>26</th>\n",
       "      <td>Chelsea</td>\n",
       "      <td>19.48</td>\n",
       "    </tr>\n",
       "    <tr>\n",
       "      <th>27</th>\n",
       "      <td>United States</td>\n",
       "      <td>19.12</td>\n",
       "    </tr>\n",
       "    <tr>\n",
       "      <th>28</th>\n",
       "      <td>New York</td>\n",
       "      <td>18.93</td>\n",
       "    </tr>\n",
       "    <tr>\n",
       "      <th>29</th>\n",
       "      <td>Kobe Bryant</td>\n",
       "      <td>18.91</td>\n",
       "    </tr>\n",
       "  </tbody>\n",
       "</table>\n",
       "</div>"
      ],
      "text/plain": [
       "               Entity   Score\n",
       "0                  UK  100.00\n",
       "1                  US   96.32\n",
       "2               China   93.10\n",
       "3               Trump   83.06\n",
       "4               India   61.79\n",
       "5                U.S.   61.36\n",
       "6              London   52.78\n",
       "7            Facebook   49.59\n",
       "8           Instagram   43.64\n",
       "9             Twitter   40.06\n",
       "10        Google News   38.10\n",
       "11            England   32.54\n",
       "12            Chinese   32.03\n",
       "13          Australia   31.26\n",
       "14       Donald Trump   30.18\n",
       "15          Liverpool   29.35\n",
       "16                NBA   28.12\n",
       "17             Amazon   27.83\n",
       "18           American   26.05\n",
       "19        Coronavirus   25.81\n",
       "20         Democratic   24.44\n",
       "21         Australian   24.19\n",
       "22            British   23.17\n",
       "23  Manchester United   20.51\n",
       "24         California   20.36\n",
       "25     Bernie Sanders   19.48\n",
       "26            Chelsea   19.48\n",
       "27      United States   19.12\n",
       "28           New York   18.93\n",
       "29        Kobe Bryant   18.91"
      ]
     },
     "execution_count": 21,
     "metadata": {
      "tags": []
     },
     "output_type": "execute_result"
    }
   ],
   "source": [
    "from sklearn import preprocessing\n",
    "\n",
    "def scoring(totalDict, number,entityCollection, countEntity):\n",
    "    unique_entity = defaultdict(int)\n",
    "    current_slice = 1/30\n",
    "    for i in tqdm(range(len(entityCollection) - 7*30, len(entityCollection))):\n",
    "        for j in range(1, 11):\n",
    "            entity = entityCollection.iloc[i, j]\n",
    "            if entity:\n",
    "                current_score = (11 - j + current_slice)\n",
    "                current_slice += 1/30\n",
    "                unique_entity[entity] = max(unique_entity[entity], current_score)\n",
    "      \n",
    "    for key in list(unique_entity.keys())[:-1]:\n",
    "        new_score = unique_entity[key] * totalDict[key] / countEntity\n",
    "        unique_entity[key] = new_score\n",
    "\n",
    "    df = pd.DataFrame.from_dict(unique_entity, orient='index')\n",
    "    df = df[:-1].reset_index()\n",
    "    df.columns = [\"Entity\", \"Score\"]\n",
    "    min_max_scaler = preprocessing.MinMaxScaler()\n",
    "    x = df[['Score']].values.astype(float)\n",
    "    x_scaled = min_max_scaler.fit_transform(x)\n",
    "    df_normalized = pd.DataFrame(x_scaled).apply(lambda x: round(x * 100,  2))\n",
    "    df[[\"Score\"]] = df_normalized\n",
    "    df = df.sort_values('Score', ascending= False).reset_index().drop(\"index\", axis = 1)\n",
    "    return df\n",
    "\n",
    "\n",
    "entity_rank = scoring(totalDict, 30, entityCollection, countEntity)\n",
    "\n",
    "entity_rank.head(30)"
   ]
  },
  {
   "cell_type": "code",
   "execution_count": null,
   "metadata": {
    "colab": {},
    "colab_type": "code",
    "id": "juOlj8asqZSt"
   },
   "outputs": [],
   "source": [
    "events_df = pd.read_csv('events_df.csv')"
   ]
  },
  {
   "cell_type": "code",
   "execution_count": null,
   "metadata": {
    "colab": {
     "base_uri": "https://localhost:8080/",
     "height": 355
    },
    "colab_type": "code",
    "executionInfo": {
     "elapsed": 602,
     "status": "ok",
     "timestamp": 1586226783529,
     "user": {
      "displayName": "Onur Kara",
      "photoUrl": "https://lh3.googleusercontent.com/a-/AOh14GgH8ux3WsUKeHXgRsfI0ie3h48gnoegzL4Z1hy-wg=s64",
      "userId": "08723139201599772388"
     },
     "user_tz": 240
    },
    "id": "TAcbNYaTcK88",
    "outputId": "2e6ee78e-5959-41b2-e979-4c0e19144434"
   },
   "outputs": [
    {
     "data": {
      "text/html": [
       "<div>\n",
       "<style scoped>\n",
       "    .dataframe tbody tr th:only-of-type {\n",
       "        vertical-align: middle;\n",
       "    }\n",
       "\n",
       "    .dataframe tbody tr th {\n",
       "        vertical-align: top;\n",
       "    }\n",
       "\n",
       "    .dataframe thead th {\n",
       "        text-align: right;\n",
       "    }\n",
       "</style>\n",
       "<table border=\"1\" class=\"dataframe\">\n",
       "  <thead>\n",
       "    <tr style=\"text-align: right;\">\n",
       "      <th></th>\n",
       "      <th>Unnamed: 0</th>\n",
       "      <th>features</th>\n",
       "      <th>start</th>\n",
       "      <th>end</th>\n",
       "      <th>index_tuple</th>\n",
       "    </tr>\n",
       "  </thead>\n",
       "  <tbody>\n",
       "    <tr>\n",
       "      <th>0</th>\n",
       "      <td>0</td>\n",
       "      <td>['U.S.', 'Mercedes', '', \"International Women'...</td>\n",
       "      <td>2020-03-01</td>\n",
       "      <td>2020-03-07</td>\n",
       "      <td>[(0, 0), (0, 1), (0, 2)]</td>\n",
       "    </tr>\n",
       "    <tr>\n",
       "      <th>1</th>\n",
       "      <td>0</td>\n",
       "      <td>['Australia', 'Australian', 'Sydney']</td>\n",
       "      <td>2020-02-10</td>\n",
       "      <td>2020-02-10</td>\n",
       "      <td>5</td>\n",
       "    </tr>\n",
       "    <tr>\n",
       "      <th>2</th>\n",
       "      <td>1</td>\n",
       "      <td>['California', 'Florida', 'New York', 'Texas']</td>\n",
       "      <td>2020-02-10</td>\n",
       "      <td>2020-02-10</td>\n",
       "      <td>8</td>\n",
       "    </tr>\n",
       "    <tr>\n",
       "      <th>3</th>\n",
       "      <td>2</td>\n",
       "      <td>['Amazon', 'Apple', 'Google']</td>\n",
       "      <td>2020-02-11</td>\n",
       "      <td>2020-02-11</td>\n",
       "      <td>2</td>\n",
       "    </tr>\n",
       "    <tr>\n",
       "      <th>4</th>\n",
       "      <td>3</td>\n",
       "      <td>['', 'Amazon', 'Facebook', 'Google', 'Instagra...</td>\n",
       "      <td>2020-02-14</td>\n",
       "      <td>2020-02-14</td>\n",
       "      <td>1</td>\n",
       "    </tr>\n",
       "    <tr>\n",
       "      <th>5</th>\n",
       "      <td>4</td>\n",
       "      <td>['Aston Villa', 'Juventus', 'Man City']</td>\n",
       "      <td>2020-02-16</td>\n",
       "      <td>2020-02-16</td>\n",
       "      <td>2</td>\n",
       "    </tr>\n",
       "    <tr>\n",
       "      <th>6</th>\n",
       "      <td>5</td>\n",
       "      <td>['Iran', 'Russia', 'Russian']</td>\n",
       "      <td>2020-02-24</td>\n",
       "      <td>2020-02-24</td>\n",
       "      <td>2</td>\n",
       "    </tr>\n",
       "    <tr>\n",
       "      <th>7</th>\n",
       "      <td>6</td>\n",
       "      <td>['European', 'France', 'French', 'German', 'Ge...</td>\n",
       "      <td>2020-02-24</td>\n",
       "      <td>2020-02-24</td>\n",
       "      <td>5</td>\n",
       "    </tr>\n",
       "    <tr>\n",
       "      <th>8</th>\n",
       "      <td>7</td>\n",
       "      <td>['California', 'Chicago', 'Florida', 'New York...</td>\n",
       "      <td>2020-02-24</td>\n",
       "      <td>2020-02-24</td>\n",
       "      <td>7</td>\n",
       "    </tr>\n",
       "    <tr>\n",
       "      <th>9</th>\n",
       "      <td>8</td>\n",
       "      <td>['Amazon', 'Apple', 'Google']</td>\n",
       "      <td>2020-02-24</td>\n",
       "      <td>2020-02-24</td>\n",
       "      <td>8</td>\n",
       "    </tr>\n",
       "  </tbody>\n",
       "</table>\n",
       "</div>"
      ],
      "text/plain": [
       "   Unnamed: 0  ...               index_tuple\n",
       "0           0  ...  [(0, 0), (0, 1), (0, 2)]\n",
       "1           0  ...                         5\n",
       "2           1  ...                         8\n",
       "3           2  ...                         2\n",
       "4           3  ...                         1\n",
       "5           4  ...                         2\n",
       "6           5  ...                         2\n",
       "7           6  ...                         5\n",
       "8           7  ...                         7\n",
       "9           8  ...                         8\n",
       "\n",
       "[10 rows x 5 columns]"
      ]
     },
     "execution_count": 26,
     "metadata": {
      "tags": []
     },
     "output_type": "execute_result"
    }
   ],
   "source": [
    "events_df.head(10)"
   ]
  },
  {
   "cell_type": "code",
   "execution_count": null,
   "metadata": {
    "colab": {},
    "colab_type": "code",
    "id": "4Uw_IWwSfCK7"
   },
   "outputs": [],
   "source": [
    "#@title Mapping entity to events\n",
    "import ast\n",
    "def generate_event_dic(events_df):\n",
    "    \"\"\"\n",
    "    Generate a dictionary which map entity to the event.\n",
    "    Assume no overlapping entity among these events.\n",
    "    \"\"\"\n",
    "    event_collection = events_df.features.unique()\n",
    "    event_map = {}\n",
    "    for events in event_collection:\n",
    "        event = ast.literal_eval(events)\n",
    "        for entity in event:\n",
    "            if entity: \n",
    "                event_map[entity] = events\n",
    "    return event_map\n",
    "event_dic = generate_event_dic(events_df)"
   ]
  },
  {
   "cell_type": "code",
   "execution_count": null,
   "metadata": {
    "colab": {},
    "colab_type": "code",
    "id": "u1ywUzVFi1tv"
   },
   "outputs": [],
   "source": [
    "def generate_event(entity_rank, event_dic):\n",
    "    event = []\n",
    "    for i in range(entity_rank.shape[0]):\n",
    "        if entity_rank.iloc[i, 0] in event_dic:\n",
    "            event.append(event_dic[entity_rank.iloc[i, 0]])\n",
    "        else:\n",
    "            event.append(entity_rank.iloc[i, 0])\n",
    "        entity_rank[\"Event\"] = event\n",
    "    return entity_rank\n",
    "\n",
    "entity_rank2 = generate_event(entity_rank, event_dic)"
   ]
  },
  {
   "cell_type": "code",
   "execution_count": null,
   "metadata": {
    "colab": {
     "base_uri": "https://localhost:8080/",
     "height": 662
    },
    "colab_type": "code",
    "executionInfo": {
     "elapsed": 608,
     "status": "ok",
     "timestamp": 1586229410901,
     "user": {
      "displayName": "Onur Kara",
      "photoUrl": "https://lh3.googleusercontent.com/a-/AOh14GgH8ux3WsUKeHXgRsfI0ie3h48gnoegzL4Z1hy-wg=s64",
      "userId": "08723139201599772388"
     },
     "user_tz": 240
    },
    "id": "nPvIA48MijxQ",
    "outputId": "07c23353-3365-476a-d5ed-9ec462709e41"
   },
   "outputs": [
    {
     "data": {
      "text/html": [
       "<div>\n",
       "<style scoped>\n",
       "    .dataframe tbody tr th:only-of-type {\n",
       "        vertical-align: middle;\n",
       "    }\n",
       "\n",
       "    .dataframe tbody tr th {\n",
       "        vertical-align: top;\n",
       "    }\n",
       "\n",
       "    .dataframe thead th {\n",
       "        text-align: right;\n",
       "    }\n",
       "</style>\n",
       "<table border=\"1\" class=\"dataframe\">\n",
       "  <thead>\n",
       "    <tr style=\"text-align: right;\">\n",
       "      <th></th>\n",
       "      <th>Entity</th>\n",
       "      <th>Score</th>\n",
       "      <th>Event</th>\n",
       "    </tr>\n",
       "  </thead>\n",
       "  <tbody>\n",
       "    <tr>\n",
       "      <th>0</th>\n",
       "      <td>UK</td>\n",
       "      <td>100.00</td>\n",
       "      <td>['U.S.', 'Mercedes', '', \"International Women'...</td>\n",
       "    </tr>\n",
       "    <tr>\n",
       "      <th>1</th>\n",
       "      <td>US</td>\n",
       "      <td>96.32</td>\n",
       "      <td>['U.S.', 'Mercedes', '', \"International Women'...</td>\n",
       "    </tr>\n",
       "    <tr>\n",
       "      <th>2</th>\n",
       "      <td>China</td>\n",
       "      <td>93.10</td>\n",
       "      <td>['U.S.', 'Mercedes', '', \"International Women'...</td>\n",
       "    </tr>\n",
       "    <tr>\n",
       "      <th>3</th>\n",
       "      <td>Trump</td>\n",
       "      <td>83.06</td>\n",
       "      <td>['U.S.', 'Mercedes', '', \"International Women'...</td>\n",
       "    </tr>\n",
       "    <tr>\n",
       "      <th>4</th>\n",
       "      <td>India</td>\n",
       "      <td>61.79</td>\n",
       "      <td>['U.S.', 'Mercedes', '', \"International Women'...</td>\n",
       "    </tr>\n",
       "    <tr>\n",
       "      <th>5</th>\n",
       "      <td>U.S.</td>\n",
       "      <td>61.36</td>\n",
       "      <td>['U.S.', 'Mercedes', '', \"International Women'...</td>\n",
       "    </tr>\n",
       "    <tr>\n",
       "      <th>6</th>\n",
       "      <td>London</td>\n",
       "      <td>52.78</td>\n",
       "      <td>['U.S.', 'Mercedes', '', \"International Women'...</td>\n",
       "    </tr>\n",
       "    <tr>\n",
       "      <th>7</th>\n",
       "      <td>Facebook</td>\n",
       "      <td>49.59</td>\n",
       "      <td>['', 'Amazon', 'Apple', 'Facebook', 'Google', ...</td>\n",
       "    </tr>\n",
       "    <tr>\n",
       "      <th>8</th>\n",
       "      <td>Instagram</td>\n",
       "      <td>43.64</td>\n",
       "      <td>['', 'Amazon', 'Apple', 'Facebook', 'Google', ...</td>\n",
       "    </tr>\n",
       "    <tr>\n",
       "      <th>9</th>\n",
       "      <td>Twitter</td>\n",
       "      <td>40.06</td>\n",
       "      <td>['', 'Amazon', 'Apple', 'Facebook', 'Google', ...</td>\n",
       "    </tr>\n",
       "    <tr>\n",
       "      <th>10</th>\n",
       "      <td>Google News</td>\n",
       "      <td>38.10</td>\n",
       "      <td>['U.S.', 'Mercedes', '', \"International Women'...</td>\n",
       "    </tr>\n",
       "    <tr>\n",
       "      <th>11</th>\n",
       "      <td>England</td>\n",
       "      <td>32.54</td>\n",
       "      <td>['U.S.', 'Mercedes', '', \"International Women'...</td>\n",
       "    </tr>\n",
       "    <tr>\n",
       "      <th>12</th>\n",
       "      <td>Chinese</td>\n",
       "      <td>32.03</td>\n",
       "      <td>['U.S.', 'Mercedes', '', \"International Women'...</td>\n",
       "    </tr>\n",
       "    <tr>\n",
       "      <th>13</th>\n",
       "      <td>Australia</td>\n",
       "      <td>31.26</td>\n",
       "      <td>['Australia', 'Australian', 'Sydney']</td>\n",
       "    </tr>\n",
       "    <tr>\n",
       "      <th>14</th>\n",
       "      <td>Donald Trump</td>\n",
       "      <td>30.18</td>\n",
       "      <td>['U.S.', 'Mercedes', '', \"International Women'...</td>\n",
       "    </tr>\n",
       "    <tr>\n",
       "      <th>15</th>\n",
       "      <td>Liverpool</td>\n",
       "      <td>29.35</td>\n",
       "      <td>['U.S.', 'Mercedes', '', \"International Women'...</td>\n",
       "    </tr>\n",
       "    <tr>\n",
       "      <th>16</th>\n",
       "      <td>NBA</td>\n",
       "      <td>28.12</td>\n",
       "      <td>NBA</td>\n",
       "    </tr>\n",
       "    <tr>\n",
       "      <th>17</th>\n",
       "      <td>Amazon</td>\n",
       "      <td>27.83</td>\n",
       "      <td>['', 'Amazon', 'Apple', 'Facebook', 'Google', ...</td>\n",
       "    </tr>\n",
       "    <tr>\n",
       "      <th>18</th>\n",
       "      <td>American</td>\n",
       "      <td>26.05</td>\n",
       "      <td>['U.S.', 'Mercedes', '', \"International Women'...</td>\n",
       "    </tr>\n",
       "    <tr>\n",
       "      <th>19</th>\n",
       "      <td>Coronavirus</td>\n",
       "      <td>25.81</td>\n",
       "      <td>['U.S.', 'Mercedes', '', \"International Women'...</td>\n",
       "    </tr>\n",
       "  </tbody>\n",
       "</table>\n",
       "</div>"
      ],
      "text/plain": [
       "          Entity   Score                                              Event\n",
       "0             UK  100.00  ['U.S.', 'Mercedes', '', \"International Women'...\n",
       "1             US   96.32  ['U.S.', 'Mercedes', '', \"International Women'...\n",
       "2          China   93.10  ['U.S.', 'Mercedes', '', \"International Women'...\n",
       "3          Trump   83.06  ['U.S.', 'Mercedes', '', \"International Women'...\n",
       "4          India   61.79  ['U.S.', 'Mercedes', '', \"International Women'...\n",
       "5           U.S.   61.36  ['U.S.', 'Mercedes', '', \"International Women'...\n",
       "6         London   52.78  ['U.S.', 'Mercedes', '', \"International Women'...\n",
       "7       Facebook   49.59  ['', 'Amazon', 'Apple', 'Facebook', 'Google', ...\n",
       "8      Instagram   43.64  ['', 'Amazon', 'Apple', 'Facebook', 'Google', ...\n",
       "9        Twitter   40.06  ['', 'Amazon', 'Apple', 'Facebook', 'Google', ...\n",
       "10   Google News   38.10  ['U.S.', 'Mercedes', '', \"International Women'...\n",
       "11       England   32.54  ['U.S.', 'Mercedes', '', \"International Women'...\n",
       "12       Chinese   32.03  ['U.S.', 'Mercedes', '', \"International Women'...\n",
       "13     Australia   31.26              ['Australia', 'Australian', 'Sydney']\n",
       "14  Donald Trump   30.18  ['U.S.', 'Mercedes', '', \"International Women'...\n",
       "15     Liverpool   29.35  ['U.S.', 'Mercedes', '', \"International Women'...\n",
       "16           NBA   28.12                                                NBA\n",
       "17        Amazon   27.83  ['', 'Amazon', 'Apple', 'Facebook', 'Google', ...\n",
       "18      American   26.05  ['U.S.', 'Mercedes', '', \"International Women'...\n",
       "19   Coronavirus   25.81  ['U.S.', 'Mercedes', '', \"International Women'..."
      ]
     },
     "execution_count": 67,
     "metadata": {
      "tags": []
     },
     "output_type": "execute_result"
    }
   ],
   "source": [
    "entity_rank2.head(20)"
   ]
  },
  {
   "cell_type": "markdown",
   "metadata": {
    "colab_type": "text",
    "id": "YOblqNPAk-59"
   },
   "source": [
    "## Improve\n",
    "This is a simple but efficient approach to socre the entities. Here we can see it really catched some current event such as coronavirus and Kobe Bryant. Here we want to capture the event through entities, we should find some way to combine the most frequncy entity to more specifc event."
   ]
  }
 ],
 "metadata": {
  "colab": {
   "collapsed_sections": [],
   "name": "RSS_event_analysis.ipynb",
   "provenance": []
  },
  "kernelspec": {
   "display_name": "Python 3",
   "language": "python",
   "name": "python3"
  },
  "language_info": {
   "codemirror_mode": {
    "name": "ipython",
    "version": 3
   },
   "file_extension": ".py",
   "mimetype": "text/x-python",
   "name": "python",
   "nbconvert_exporter": "python",
   "pygments_lexer": "ipython3",
   "version": "3.8.5"
  }
 },
 "nbformat": 4,
 "nbformat_minor": 1
}
